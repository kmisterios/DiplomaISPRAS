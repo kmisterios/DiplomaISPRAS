{
 "cells": [
  {
   "cell_type": "code",
   "execution_count": 1,
   "metadata": {},
   "outputs": [],
   "source": [
    "from jsonschema import validate\n",
    "import exrex"
   ]
  },
  {
   "cell_type": "code",
   "execution_count": 32,
   "metadata": {},
   "outputs": [],
   "source": [
    "schema = {\"type\" : \"object\",\n",
    "          \"properties\" : {\n",
    "              \"price\" : {\"type\" : \"number\"},\n",
    "              \"name\" : {\"type\" : \"string\"},\n",
    "          },\n",
    "         }"
   ]
  },
  {
   "cell_type": "code",
   "execution_count": 33,
   "metadata": {},
   "outputs": [
    {
     "name": "stdout",
     "output_type": "stream",
     "text": [
      "None\n"
     ]
    }
   ],
   "source": [
    "print(validate(instance={\"name\" : \"Eggs\", \"price\" : 8.77}, schema=schema))"
   ]
  },
  {
   "cell_type": "code",
   "execution_count": 34,
   "metadata": {},
   "outputs": [
    {
     "name": "stdout",
     "output_type": "stream",
     "text": [
      "error\n"
     ]
    }
   ],
   "source": [
    "v = None\n",
    "try:\n",
    "    validate(instance={\"name\" : \"Eggs\", \"price\" : \"invalid\"}, schema=schema)\n",
    "    print('ok')\n",
    "except:\n",
    "    print('error')"
   ]
  },
  {
   "cell_type": "code",
   "execution_count": 2,
   "metadata": {},
   "outputs": [],
   "source": [
    "import ruptures as rpt\n",
    "import json\n",
    "import numpy as np\n",
    "%matplotlib inline\n",
    "import matplotlib.pyplot as plt\n",
    "import seaborn"
   ]
  },
  {
   "cell_type": "code",
   "execution_count": null,
   "metadata": {},
   "outputs": [],
   "source": [
    "rpt."
   ]
  },
  {
   "cell_type": "code",
   "execution_count": 59,
   "metadata": {},
   "outputs": [],
   "source": [
    "data = '''[\n",
    "{\"name\" : \"Eggs\", \"price\" : 8.88},\n",
    "{\"name\" : \"Eggs\", \"price\" : 8.15},\n",
    "{\"name\" : \"Eggs\", \"price\" : 8.77},\n",
    "{\"name\" : \"Eggs\", \"price\" : 8.76},\n",
    "{\"name\" : \"Eggs\", \"price\" : 8.72},\n",
    "{\"name\" : \"Eggs\", \"price\" : 8.64},\n",
    "{\"name\" : \"Eggs\", \"price\" : 8.88},\n",
    "{\"name\" : \"Eggs\", \"price\" : 8.15},\n",
    "{\"name\" : \"Eggs\", \"price\" : 8.77},\n",
    "{\"name\" : \"Eggs\", \"price\" : 8.72},\n",
    "{\"name\" : \"Eggs\", \"price\" : 8.64},\n",
    "{\"name\" : \"Eggs\", \"price\" : 8.88},\n",
    "{\"name\" : \"Eggs\", \"price\" : 8.76},\n",
    "{\"name\" : \"Eggs\", \"price\" : 8.72},\n",
    "{\"name\" : \"Eggs\", \"price\" : 8.72},\n",
    "{\"name\" : \"Eggs\", \"price\" : 8.15},\n",
    "{\"name\" : \"Eggs\", \"price\" : 8.72},\n",
    "{\"name\" : \"Eggs\", \"price\" : 8.72},\n",
    "{\"name\" : \"Eggs\", \"price\" : 8.15}\n",
    "]'''"
   ]
  },
  {
   "cell_type": "code",
   "execution_count": 37,
   "metadata": {},
   "outputs": [],
   "source": [
    "samples = json.loads(data)"
   ]
  },
  {
   "cell_type": "code",
   "execution_count": 60,
   "metadata": {},
   "outputs": [],
   "source": [
    "schema = {\"type\" : \"object\", \"properties\" : {\"price\" : {\"type\" : \"number\"}, \"name\" : {\"type\" : \"string\"}}}"
   ]
  },
  {
   "cell_type": "code",
   "execution_count": 61,
   "metadata": {},
   "outputs": [],
   "source": [
    "for key in schema[\"properties\"].keys():\n",
    "    if schema[\"properties\"][key][\"type\"] == \"string\":\n",
    "        break"
   ]
  },
  {
   "cell_type": "code",
   "execution_count": 62,
   "metadata": {},
   "outputs": [
    {
     "data": {
      "text/plain": [
       "'name'"
      ]
     },
     "execution_count": 62,
     "metadata": {},
     "output_type": "execute_result"
    }
   ],
   "source": [
    "key"
   ]
  },
  {
   "cell_type": "code",
   "execution_count": 63,
   "metadata": {
    "scrolled": true
   },
   "outputs": [
    {
     "ename": "NameError",
     "evalue": "name 'samples' is not defined",
     "output_type": "error",
     "traceback": [
      "\u001b[0;31m---------------------------------------------------------------------------\u001b[0m",
      "\u001b[0;31mNameError\u001b[0m                                 Traceback (most recent call last)",
      "\u001b[0;32m<ipython-input-63-e90790be2602>\u001b[0m in \u001b[0;36m<module>\u001b[0;34m\u001b[0m\n\u001b[1;32m      1\u001b[0m \u001b[0mprices\u001b[0m \u001b[0;34m=\u001b[0m \u001b[0;34m[\u001b[0m\u001b[0;34m]\u001b[0m\u001b[0;34m\u001b[0m\u001b[0;34m\u001b[0m\u001b[0m\n\u001b[0;32m----> 2\u001b[0;31m \u001b[0;32mfor\u001b[0m \u001b[0msample\u001b[0m \u001b[0;32min\u001b[0m \u001b[0msamples\u001b[0m\u001b[0;34m:\u001b[0m\u001b[0;34m\u001b[0m\u001b[0;34m\u001b[0m\u001b[0m\n\u001b[0m\u001b[1;32m      3\u001b[0m     \u001b[0mprices\u001b[0m\u001b[0;34m.\u001b[0m\u001b[0mappend\u001b[0m\u001b[0;34m(\u001b[0m\u001b[0mlen\u001b[0m\u001b[0;34m(\u001b[0m\u001b[0msample\u001b[0m\u001b[0;34m[\u001b[0m\u001b[0;34m\"name\"\u001b[0m\u001b[0;34m]\u001b[0m\u001b[0;34m)\u001b[0m\u001b[0;34m)\u001b[0m\u001b[0;34m\u001b[0m\u001b[0;34m\u001b[0m\u001b[0m\n\u001b[1;32m      4\u001b[0m     \u001b[0mprint\u001b[0m\u001b[0;34m(\u001b[0m\u001b[0msample\u001b[0m\u001b[0;34m[\u001b[0m\u001b[0;34m\"name\"\u001b[0m\u001b[0;34m]\u001b[0m\u001b[0;34m)\u001b[0m\u001b[0;34m\u001b[0m\u001b[0;34m\u001b[0m\u001b[0m\n",
      "\u001b[0;31mNameError\u001b[0m: name 'samples' is not defined"
     ]
    }
   ],
   "source": [
    "prices = []\n",
    "for sample in samples:\n",
    "    prices.append(len(sample[\"name\"]))\n",
    "    print(sample[\"name\"])"
   ]
  },
  {
   "cell_type": "code",
   "execution_count": 42,
   "metadata": {},
   "outputs": [],
   "source": [
    "prices = []\n",
    "for sample in samples:\n",
    "    prices.append(sample[\"price\"])"
   ]
  },
  {
   "cell_type": "code",
   "execution_count": 43,
   "metadata": {},
   "outputs": [
    {
     "name": "stdout",
     "output_type": "stream",
     "text": [
      "(array([ 0,  6, 11]),)\n",
      "(array([ 1,  7, 15, 18]),)\n"
     ]
    },
    {
     "data": {
      "text/plain": [
       "19"
      ]
     },
     "execution_count": 43,
     "metadata": {},
     "output_type": "execute_result"
    }
   ],
   "source": [
    "prices = np.array(prices)\n",
    "print(np.where(prices == max(prices)))\n",
    "print(np.where(prices == min(prices)))\n",
    "len(prices)"
   ]
  },
  {
   "cell_type": "code",
   "execution_count": 44,
   "metadata": {
    "scrolled": true
   },
   "outputs": [
    {
     "data": {
      "image/png": "[encoded data removed]",
      "text/plain": [
       "<Figure size 720x432 with 1 Axes>"
      ]
     },
     "metadata": {
      "needs_background": "light"
     },
     "output_type": "display_data"
    }
   ],
   "source": [
    "model = \"l2\"  \n",
    "algo = rpt.Binseg(model=model).fit(prices)\n",
    "my_bkps = algo.predict(n_bkps=10)\n",
    "# show results\n",
    "rpt.show.display(prices, my_bkps, figsize=(10, 6))\n",
    "plt.title('Change Point Detection: Pelt Search Method')\n",
    "plt.show()"
   ]
  },
  {
   "cell_type": "code",
   "execution_count": 46,
   "metadata": {},
   "outputs": [
    {
     "name": "stdout",
     "output_type": "stream",
     "text": [
      "[5, 10, 15, 19]\n"
     ]
    }
   ],
   "source": [
    "print(my_bkps)"
   ]
  },
  {
   "cell_type": "code",
   "execution_count": 47,
   "metadata": {},
   "outputs": [
    {
     "data": {
      "text/plain": [
       "1"
      ]
     },
     "execution_count": 47,
     "metadata": {},
     "output_type": "execute_result"
    }
   ],
   "source": [
    "(len(my_bkps)- int(my_bkps[-1]/5))"
   ]
  },
  {
   "cell_type": "code",
   "execution_count": 48,
   "metadata": {},
   "outputs": [],
   "source": [
    "a = np.array([[1,2,3],[1,3,2]])\n",
    "b = [[1,2,],[1],[2]]"
   ]
  },
  {
   "cell_type": "code",
   "execution_count": 49,
   "metadata": {},
   "outputs": [
    {
     "data": {
      "text/plain": [
       "True"
      ]
     },
     "execution_count": 49,
     "metadata": {},
     "output_type": "execute_result"
    }
   ],
   "source": [
    "type(a[0][0]) == np.int64"
   ]
  },
  {
   "cell_type": "code",
   "execution_count": 50,
   "metadata": {},
   "outputs": [
    {
     "data": {
      "text/plain": [
       "0"
      ]
     },
     "execution_count": 50,
     "metadata": {},
     "output_type": "execute_result"
    }
   ],
   "source": [
    "int(my_bkps[-1] % 5 in {1,2})"
   ]
  },
  {
   "cell_type": "code",
   "execution_count": 3,
   "metadata": {},
   "outputs": [],
   "source": [
    "import json\n",
    "import random\n",
    "\n",
    "items = ['eggs', 'milk', 'cheese', 'bread', 'porridge']\n",
    "names = ['Misha', 'Lena', 'Ivan', 'Nikita', 'Aleksandr', 'Fillip', 'fhfhfkksfklfjllflfalnfl']\n",
    "\n",
    "# есть поле текст n шагов, а после n+1 - нет\n",
    "def error1(n):\n",
    "    data_arr = []\n",
    "    n = int(n)\n",
    "    for i in range(n):\n",
    "        data = {}\n",
    "        data['name'] = random.choice(items)\n",
    "        data['price'] = random.randrange(8, 9) + round(random.random(), 3)\n",
    "        data['count'] = random.randint(1,10)\n",
    "        data['customer name'] = random.choice(names)\n",
    "        data['phone number'] = \"+79\" + str(random.randint(111111111,999999999))\n",
    "        data_arr.append(data)\n",
    "    for i in range(int(n / 5)):\n",
    "        data = {}\n",
    "        data['name'] = ''\n",
    "        data['price'] = random.randrange(8, 9) + round(random.random(), 3)\n",
    "        data['count'] = random.randint(1,10)\n",
    "        data['customer name'] = random.choice(names)\n",
    "        data['phone number'] = \"+79\" + str(random.randint(111111111,999999999))\n",
    "        data_arr.append(data)\n",
    "    with open('anomaly1.json', 'w') as json_file:\n",
    "        json.dump(data_arr, json_file)"
   ]
  },
  {
   "cell_type": "code",
   "execution_count": 52,
   "metadata": {},
   "outputs": [],
   "source": [
    "error1(100)"
   ]
  },
  {
   "cell_type": "code",
   "execution_count": 53,
   "metadata": {},
   "outputs": [],
   "source": [
    "def error2(n):\n",
    "    data_arr = []\n",
    "    n = int(n)\n",
    "    for i in range(n):\n",
    "        data = {}\n",
    "        data['name'] = random.choice(items)\n",
    "        data['price'] = random.randrange(8, 9) + round(random.random(), 3)\n",
    "        data['count'] = random.randint(1,10)\n",
    "        if random.random() < 0.589:\n",
    "            data[\"customer name\"] = random.choice(names)\n",
    "        else:\n",
    "            data[\"customer name\"] = ''\n",
    "        data['phone number'] = \"+79\" + str(random.randint(111111111,999999999))\n",
    "        data_arr.append(data)\n",
    "    for i in range(int(n / 5)):\n",
    "        data = {}\n",
    "        data[\"customer name\"] = ''\n",
    "        data['name'] = random.choice(items)\n",
    "        data['price'] = random.randrange(8, 9) + round(random.random(), 3)\n",
    "        data['count'] = random.randint(1,10)\n",
    "        data['phone number'] = \"+79\" + str(random.randint(111111111,999999999))\n",
    "        data_arr.append(data)\n",
    "    with open('anomaly2.json', 'w') as json_file:\n",
    "        json.dump(data_arr, json_file)"
   ]
  },
  {
   "cell_type": "code",
   "execution_count": 54,
   "metadata": {},
   "outputs": [],
   "source": [
    "error2(100)"
   ]
  },
  {
   "cell_type": "code",
   "execution_count": 55,
   "metadata": {},
   "outputs": [],
   "source": [
    "def error3(n):\n",
    "    data_arr = []\n",
    "    n = int(n)\n",
    "    for i in range(n):\n",
    "        data = {}\n",
    "        data['name'] = random.choice(items)\n",
    "        data['price'] = random.randrange(8, 9) + round(random.random(), 3)\n",
    "        data['count'] = random.randint(1,10)\n",
    "        data['customer name'] = random.choice(names)\n",
    "        data['phone number'] = \"+79\" + str(random.randint(111111111,999999999))\n",
    "        data_arr.append(data)\n",
    "    for i in range(int(n)):\n",
    "        data = {}\n",
    "        data['name'] = random.choice(items)\n",
    "        data['price'] = random.randrange(50, 70) + round(random.random(), 3)\n",
    "        data['count'] = random.randint(1,10)\n",
    "        data['customer name'] = random.choice(names)\n",
    "        data['phone number'] = \"+79\" + str(random.randint(111111111,999999999))\n",
    "        data_arr.append(data)\n",
    "    with open('anomaly3.json', 'w') as json_file:\n",
    "        json.dump(data_arr, json_file)"
   ]
  },
  {
   "cell_type": "code",
   "execution_count": 56,
   "metadata": {},
   "outputs": [],
   "source": [
    "error3(100)"
   ]
  },
  {
   "cell_type": "code",
   "execution_count": 57,
   "metadata": {},
   "outputs": [],
   "source": [
    "def error4(n):\n",
    "    data_arr = []\n",
    "    n = int(n)\n",
    "    for i in range(n):\n",
    "        data = {}\n",
    "        data['name'] = random.choice(items)\n",
    "        data['price'] = random.randrange(8, 9) + round(random.random(), 3)\n",
    "        data['count'] = random.randint(10,10)\n",
    "        data['customer name'] = random.choice(names)\n",
    "        data['phone number'] = \"+79\" + str(random.randint(111111111,999999999))\n",
    "        data_arr.append(data)\n",
    "    for i in range(int(n/ 5)):\n",
    "        data = {}\n",
    "        data['name'] = random.choice(items)\n",
    "        data['price'] = random.randrange(8, 9) + round(random.random(), 3)\n",
    "        data['count'] = random.randint(10,10)\n",
    "        data['customer name'] = random.choice(names)\n",
    "        data['phone number'] = \"8(9\" + str(random.randint(11,99))+')' + str(random.randint(1111111,9999999))\n",
    "        data_arr.append(data)\n",
    "    with open('anomaly4.json', 'w') as json_file:\n",
    "        json.dump(data_arr, json_file)"
   ]
  },
  {
   "cell_type": "code",
   "execution_count": 58,
   "metadata": {},
   "outputs": [],
   "source": [
    "error4(100)"
   ]
  },
  {
   "cell_type": "code",
   "execution_count": 59,
   "metadata": {},
   "outputs": [],
   "source": [
    "with open('anomaly4.json', 'r') as json_file:\n",
    "    data = json.loads(json_file.read())"
   ]
  },
  {
   "cell_type": "code",
   "execution_count": 60,
   "metadata": {},
   "outputs": [
    {
     "ename": "FileNotFoundError",
     "evalue": "[Errno 2] No such file or directory: 'collections.json'",
     "output_type": "error",
     "traceback": [
      "\u001b[0;31m---------------------------------------------------------------------------\u001b[0m",
      "\u001b[0;31mFileNotFoundError\u001b[0m                         Traceback (most recent call last)",
      "\u001b[0;32m<ipython-input-60-75177cfebe9c>\u001b[0m in \u001b[0;36m<module>\u001b[0;34m\u001b[0m\n\u001b[0;32m----> 1\u001b[0;31m \u001b[0;32mwith\u001b[0m \u001b[0mopen\u001b[0m\u001b[0;34m(\u001b[0m\u001b[0;34m'collections.json'\u001b[0m\u001b[0;34m,\u001b[0m \u001b[0;34m'r'\u001b[0m\u001b[0;34m)\u001b[0m \u001b[0;32mas\u001b[0m \u001b[0mjson_file\u001b[0m\u001b[0;34m:\u001b[0m\u001b[0;34m\u001b[0m\u001b[0;34m\u001b[0m\u001b[0m\n\u001b[0m\u001b[1;32m      2\u001b[0m     \u001b[0mdata2\u001b[0m \u001b[0;34m=\u001b[0m \u001b[0mjson\u001b[0m\u001b[0;34m.\u001b[0m\u001b[0mloads\u001b[0m\u001b[0;34m(\u001b[0m\u001b[0mjson_file\u001b[0m\u001b[0;34m.\u001b[0m\u001b[0mread\u001b[0m\u001b[0;34m(\u001b[0m\u001b[0;34m)\u001b[0m\u001b[0;34m)\u001b[0m\u001b[0;34m\u001b[0m\u001b[0;34m\u001b[0m\u001b[0m\n",
      "\u001b[0;31mFileNotFoundError\u001b[0m: [Errno 2] No such file or directory: 'collections.json'"
     ]
    }
   ],
   "source": [
    "with open('collections.json', 'r') as json_file:\n",
    "    data2 = json.loads(json_file.read())"
   ]
  },
  {
   "cell_type": "code",
   "execution_count": 63,
   "metadata": {},
   "outputs": [],
   "source": [
    "schema = {\"id\" : {\"type\" : \"number\"}, \"type\" : \"object\", \"properties\" : {\"price\" : {\"type\" : \"number\"}, \"count\" : {\"type\" : \"number\"}, \"name\" : {\"type\" : \"string\"}, \"customer name\" : {\"type\" : \"string\"}, \"phone number\": {\"type\" : \"string\"}}, \"required\": [ \"name\" ]}"
   ]
  },
  {
   "cell_type": "code",
   "execution_count": 64,
   "metadata": {},
   "outputs": [],
   "source": [
    "for key in schema[\"properties\"].keys():\n",
    "    if schema[\"properties\"][key][\"type\"] == \"string\":\n",
    "        break"
   ]
  },
  {
   "cell_type": "code",
   "execution_count": 65,
   "metadata": {},
   "outputs": [
    {
     "data": {
      "text/plain": [
       "'name'"
      ]
     },
     "execution_count": 65,
     "metadata": {},
     "output_type": "execute_result"
    }
   ],
   "source": [
    "key"
   ]
  },
  {
   "cell_type": "code",
   "execution_count": 67,
   "metadata": {},
   "outputs": [],
   "source": [
    "prices = []\n",
    "for sample in data:\n",
    "    prices.append(len(sample[\"phone number\"]))"
   ]
  },
  {
   "cell_type": "code",
   "execution_count": 68,
   "metadata": {},
   "outputs": [
    {
     "data": {
      "text/plain": [
       "array([12, 12, 12, 12, 12, 12, 12, 12, 12, 12, 12, 12, 12, 12, 12, 12, 12,\n",
       "       12, 12, 12, 12, 12, 12, 12, 12, 12, 12, 12, 12, 12, 12, 12, 12, 12,\n",
       "       12, 12, 12, 12, 12, 12, 12, 12, 12, 12, 12, 12, 12, 12, 12, 12, 12,\n",
       "       12, 12, 12, 12, 12, 12, 12, 12, 12, 12, 12, 12, 12, 12, 12, 12, 12,\n",
       "       12, 12, 12, 12, 12, 12, 12, 12, 12, 12, 12, 12, 12, 12, 12, 12, 12,\n",
       "       12, 12, 12, 12, 12, 12, 12, 12, 12, 12, 12, 12, 12, 12, 12, 13, 13,\n",
       "       13, 13, 13, 13, 13, 13, 13, 13, 13, 13, 13, 13, 13, 13, 13, 13, 13,\n",
       "       13])"
      ]
     },
     "execution_count": 68,
     "metadata": {},
     "output_type": "execute_result"
    }
   ],
   "source": [
    "prices = np.array(prices)\n",
    "n = len(prices)\n",
    "prices"
   ]
  },
  {
   "cell_type": "code",
   "execution_count": 69,
   "metadata": {},
   "outputs": [
    {
     "data": {
      "image/png": "[encoded data removed]",
      "text/plain": [
       "<Figure size 720x432 with 1 Axes>"
      ]
     },
     "metadata": {
      "needs_background": "light"
     },
     "output_type": "display_data"
    }
   ],
   "source": [
    "model=\"l1\"\n",
    "algo = rpt.Pelt(model=model, min_size=1, jump=1).fit(prices)\n",
    "result = algo.predict(pen=5)\n",
    "rpt.show.display(prices, result, figsize=(10, 6))\n",
    "plt.title('Change Point Detection: Pelt Search Method')\n",
    "plt.show()"
   ]
  },
  {
   "cell_type": "code",
   "execution_count": 79,
   "metadata": {},
   "outputs": [
    {
     "data": {
      "text/plain": [
       "[100, 120, 100]"
      ]
     },
     "execution_count": 79,
     "metadata": {},
     "output_type": "execute_result"
    }
   ],
   "source": [
    "result"
   ]
  },
  {
   "cell_type": "code",
   "execution_count": null,
   "metadata": {},
   "outputs": [],
   "source": [
    "def error5(n):\n",
    "    data_arr = []\n",
    "    n = int(n)\n",
    "    for i in range(n):\n",
    "        data = {}\n",
    "        data['name'] = random.choice(items)\n",
    "        data['price'] = random.randrange(8, 9) + round(random.random(), 3)\n",
    "        data['count'] = random.randint(1,10)\n",
    "        data[\"customer name\"] = random.choice(names)\n",
    "        data['phone number'] = \"+79\" + str(random.randint(111111111,999999999))\n",
    "        data_arr.append(data)\n",
    "    for i in range(int(n / 10)):\n",
    "        data = {}\n",
    "        data['name'] = random.choice(items)\n",
    "        data['price'] = random.randrange(8, 9) + round(random.random(), 3)\n",
    "        data['phone number'] = \"+79\" + str(random.randint(111111111,999999999))\n",
    "        data_arr.append(data)\n",
    "    with open('anomaly5.json', 'w') as json_file:\n",
    "        json.dump(data_arr, json_file)"
   ]
  },
  {
   "cell_type": "code",
   "execution_count": null,
   "metadata": {},
   "outputs": [],
   "source": [
    "error5(50)"
   ]
  },
  {
   "cell_type": "code",
   "execution_count": null,
   "metadata": {},
   "outputs": [],
   "source": [
    "with open('anomaly5.json', 'r') as json_file:\n",
    "    data = json.loads(json_file.read())"
   ]
  },
  {
   "cell_type": "code",
   "execution_count": null,
   "metadata": {},
   "outputs": [],
   "source": [
    "len(data[0].keys())"
   ]
  },
  {
   "cell_type": "code",
   "execution_count": null,
   "metadata": {
    "scrolled": false
   },
   "outputs": [],
   "source": [
    "numbers = []\n",
    "for sample in data:\n",
    "    numbers.append(len(sample.keys()))\n",
    "numbers = np.array(numbers)\n",
    "model = \"l1\"\n",
    "algo = rpt.Pelt(model=model, min_size=1, jump=1).fit(numbers)\n",
    "result = algo.predict(pen=5)\n",
    "rpt.show.display(numbers, result, figsize=(10, 6))\n",
    "plt.title('Change Point Detection: Pelt Search Method')\n",
    "plt.show()"
   ]
  },
  {
   "cell_type": "code",
   "execution_count": null,
   "metadata": {},
   "outputs": [],
   "source": [
    "numbers.max()"
   ]
  },
  {
   "cell_type": "code",
   "execution_count": null,
   "metadata": {},
   "outputs": [],
   "source": [
    "result"
   ]
  },
  {
   "cell_type": "code",
   "execution_count": null,
   "metadata": {},
   "outputs": [],
   "source": [
    "json.dumps"
   ]
  },
  {
   "cell_type": "code",
   "execution_count": null,
   "metadata": {},
   "outputs": [],
   "source": [
    "schemas = '''[{\"id\" : 1, \"type\" : \"object\", \"properties\" : {\"price\" : {\"type\" : \"number\"}, \"count\" : {\"type\" : \"number\"}, \"name\" : {\"type\" : \"string\"}, \"customer name\" : {\"type\" : \"string\"}, \"phone number\": {\"type\" : \"string\"}}, \"required\": [ \"name\", \"id\" ]},\n",
    "          {\"id\" : 2, \"type\" : \"object\", \"properties\" : {\"price\" : {\"type\" : \"number\"}, \"count\" : {\"type\" : \"number\"}, \"name\" : {\"type\" : \"string\"}, \"customer name\" : {\"type\" : \"string\"}, \"phone number\": {\"type\" : \"string\"}}, \"required\": [ \"name\", \"id\" ]}]\n",
    "          '''"
   ]
  },
  {
   "cell_type": "code",
   "execution_count": null,
   "metadata": {},
   "outputs": [],
   "source": [
    "from jsonschema import validate\n",
    "validate(instance={\"id\": 3, \"name\": \"porridge\", \"price\": 8.2, \"count\": 1, \"customer name\": \"Nikita\", \n",
    "                   \"phone number\": \"+79451233408\"}, schema=schema)"
   ]
  },
  {
   "cell_type": "code",
   "execution_count": null,
   "metadata": {},
   "outputs": [],
   "source": [
    "js = {\"id\": 1, \"name\": \"porridge\", \"price\": 8.2, \"count\": 1, \"customer name\": \"Nikita\", \n",
    "                   \"phone number\": \"+79451233408\"}"
   ]
  },
  {
   "cell_type": "code",
   "execution_count": null,
   "metadata": {},
   "outputs": [],
   "source": [
    "schemas[0]"
   ]
  },
  {
   "cell_type": "code",
   "execution_count": 719,
   "metadata": {},
   "outputs": [],
   "source": [
    "schema = {\n",
    "    \"id\": 1,\n",
    "    \"type\" : \"object\",\n",
    "    \"properties\" : {\n",
    "        \"name\" : {\"type\" : \"string\", \"minlength\" : 3 , \"maxlength\" : 10},\n",
    "        \"count\" : {\"type\" : \"integer\", \"minimum\" : 0 , \"maximum\" : 15},\n",
    "        \"price\" : {\"type\" : \"number\", \"minimum\" : 1 , \"maximum\" : 20}\n",
    "    }\n",
    "}"
   ]
  },
  {
   "cell_type": "code",
   "execution_count": 3,
   "metadata": {},
   "outputs": [],
   "source": [
    "import random\n",
    "import string\n",
    "def generate_string(sch, field):\n",
    "    letters = string.ascii_lowercase\n",
    "    length = random.randint(sch[\"properties\"][field][\"minlength\"],sch[\"properties\"][field][\"maxlength\"])\n",
    "    return ''.join(random.choice(letters) for i in range(length))"
   ]
  },
  {
   "cell_type": "code",
   "execution_count": 4,
   "metadata": {},
   "outputs": [
    {
     "ename": "NameError",
     "evalue": "name 'schema' is not defined",
     "output_type": "error",
     "traceback": [
      "\u001b[0;31m---------------------------------------------------------------------------\u001b[0m",
      "\u001b[0;31mNameError\u001b[0m                                 Traceback (most recent call last)",
      "\u001b[0;32m<ipython-input-4-6724d381d43d>\u001b[0m in \u001b[0;36m<module>\u001b[0;34m\u001b[0m\n\u001b[0;32m----> 1\u001b[0;31m \u001b[0mgenerate_string\u001b[0m\u001b[0;34m(\u001b[0m\u001b[0mschema\u001b[0m\u001b[0;34m,\u001b[0m \u001b[0;34m\"name\"\u001b[0m\u001b[0;34m)\u001b[0m\u001b[0;34m\u001b[0m\u001b[0;34m\u001b[0m\u001b[0m\n\u001b[0m",
      "\u001b[0;31mNameError\u001b[0m: name 'schema' is not defined"
     ]
    }
   ],
   "source": [
    "generate_string(schema, \"name\")"
   ]
  },
  {
   "cell_type": "code",
   "execution_count": 722,
   "metadata": {},
   "outputs": [],
   "source": [
    "def generate_int(sch, field):\n",
    "    return random.randint(sch[\"properties\"][field][\"minimum\"],sch[\"properties\"][field][\"maximum\"])"
   ]
  },
  {
   "cell_type": "code",
   "execution_count": 723,
   "metadata": {},
   "outputs": [
    {
     "data": {
      "text/plain": [
       "7"
      ]
     },
     "execution_count": 723,
     "metadata": {},
     "output_type": "execute_result"
    }
   ],
   "source": [
    "generate_int(schema, \"count\")"
   ]
  },
  {
   "cell_type": "code",
   "execution_count": 724,
   "metadata": {},
   "outputs": [],
   "source": [
    "def generate_float(sch, field):\n",
    "    return random.randrange(sch[\"properties\"][field][\"minimum\"],sch[\"properties\"][field][\"maximum\"]) + round(random.random(), 3)"
   ]
  },
  {
   "cell_type": "code",
   "execution_count": null,
   "metadata": {},
   "outputs": [],
   "source": [
    "generate_float(schema, \"price\")"
   ]
  },
  {
   "cell_type": "code",
   "execution_count": null,
   "metadata": {},
   "outputs": [],
   "source": [
    "    def generate_phone_number(sch, err):\n",
    "        if err == 0:\n",
    "            return \"+79\" + str(random.randint(111111111,999999999))\n",
    "        else:\n",
    "            return \"8(9\" + str(random.randint(11,99))+')' + str(random.randint(1111111,9999999))"
   ]
  },
  {
   "cell_type": "code",
   "execution_count": null,
   "metadata": {},
   "outputs": [],
   "source": [
    "generate_phone_number(schema, 0)"
   ]
  },
  {
   "cell_type": "code",
   "execution_count": null,
   "metadata": {},
   "outputs": [],
   "source": [
    "schema = {\"idOfCrawler\": 1, \"type\": \"object\", \"properties\": {\"price\": {\"type\": \"number\", \"minimum\" : 1 , \"maximum\" : 20}, \"count\": {\"type\": \"integer\", \"minimum\" : 0 , \"maximum\" : 15}, \"name\": {\"type\": \"string\",  \"minlength\" : 3 , \"maxlength\" : 10}, \"customer name\": {\"type\": \"string\",  \"minlength\" : 4 , \"maxlength\" : 12}, \"phone number\": {\"type\": \"string\"}}, \"required\": [\"name\"]}"
   ]
  },
  {
   "cell_type": "code",
   "execution_count": null,
   "metadata": {},
   "outputs": [],
   "source": [
    "validate(instance={\"idOfCrawler\": 1, \"price\": 9.139, \"count\": 5, \"phone number\": \"+79725092402\", \n",
    "                   \"customer name\": \"zsxkck\"}, schema=schema)"
   ]
  },
  {
   "cell_type": "code",
   "execution_count": null,
   "metadata": {},
   "outputs": [],
   "source": [
    "schemas = json.loads(schemas)"
   ]
  },
  {
   "cell_type": "code",
   "execution_count": null,
   "metadata": {},
   "outputs": [],
   "source": [
    "schemas"
   ]
  },
  {
   "cell_type": "code",
   "execution_count": null,
   "metadata": {},
   "outputs": [],
   "source": [
    "open('anomaly10.json')"
   ]
  },
  {
   "cell_type": "code",
   "execution_count": null,
   "metadata": {},
   "outputs": [],
   "source": [
    "round(0.5)"
   ]
  },
  {
   "cell_type": "code",
   "execution_count": 30,
   "metadata": {},
   "outputs": [
    {
     "data": {
      "text/plain": [
       "'[0, 1, 0]'"
      ]
     },
     "execution_count": 30,
     "metadata": {},
     "output_type": "execute_result"
    }
   ],
   "source": [
    "a = [0,1,0]\n",
    "str(a)"
   ]
  },
  {
   "cell_type": "code",
   "execution_count": 78,
   "metadata": {},
   "outputs": [
    {
     "data": {
      "text/plain": [
       "0"
      ]
     },
     "execution_count": 78,
     "metadata": {},
     "output_type": "execute_result"
    }
   ],
   "source": [
    "length = 1 if 5 > 6 else 0\n",
    "length"
   ]
  },
  {
   "cell_type": "code",
   "execution_count": 3,
   "metadata": {},
   "outputs": [
    {
     "name": "stdout",
     "output_type": "stream",
     "text": [
      "Collecting exrex\n",
      "  Downloading https://files.pythonhosted.org/packages/68/5a/1f0940e6bc490825bab1d3e9441cd90f6a27d1c6022db1b12772f38de04b/exrex-0.10.5.tar.gz\n",
      "Building wheels for collected packages: exrex\n",
      "  Building wheel for exrex (setup.py) ... \u001b[?25ldone\n",
      "\u001b[?25h  Created wheel for exrex: filename=exrex-0.10.5-cp37-none-any.whl size=9176 sha256=a2dd1a0df9a43028810c1428d7613d1ef0d7be7cf6b9fc6cd59bc39bfbacb6e2\n",
      "  Stored in directory: /home/oem/.cache/pip/wheels/78/5c/41/d0884a1580d7cc46f5a8498f72b97af174ae1a1f810fd17587\n",
      "Successfully built exrex\n",
      "Installing collected packages: exrex\n",
      "Successfully installed exrex-0.10.5\n"
     ]
    }
   ],
   "source": [
    "!pip install exrex"
   ]
  },
  {
   "cell_type": "code",
   "execution_count": 57,
   "metadata": {},
   "outputs": [
    {
     "data": {
      "text/plain": [
       "'09-01-2020'"
      ]
     },
     "execution_count": 57,
     "metadata": {},
     "output_type": "execute_result"
    }
   ],
   "source": [
    "import exrex\n",
    "date1 = exrex.getone('(0[1-9]|1[0-9]|2[0-9]|3[0-1])-(0[1-9]|1[0-2])-20(20|1[0-9]|0[1-9])')\n",
    "date1"
   ]
  },
  {
   "cell_type": "code",
   "execution_count": 81,
   "metadata": {},
   "outputs": [],
   "source": [
    "date2 = '15:30'"
   ]
  },
  {
   "cell_type": "code",
   "execution_count": 6,
   "metadata": {},
   "outputs": [],
   "source": [
    "from datetime import datetime, time\n",
    "from datetime import date"
   ]
  },
  {
   "cell_type": "code",
   "execution_count": 72,
   "metadata": {},
   "outputs": [],
   "source": [
    "d1 = datetime.strptime(date1, '%d-%m-%Y')"
   ]
  },
  {
   "cell_type": "code",
   "execution_count": 82,
   "metadata": {},
   "outputs": [],
   "source": [
    "d2 = datetime.strptime(date2, '%H:%M')"
   ]
  },
  {
   "cell_type": "code",
   "execution_count": 74,
   "metadata": {},
   "outputs": [
    {
     "data": {
      "text/plain": [
       "False"
      ]
     },
     "execution_count": 74,
     "metadata": {},
     "output_type": "execute_result"
    }
   ],
   "source": [
    "d2 > d1"
   ]
  },
  {
   "cell_type": "code",
   "execution_count": 3,
   "metadata": {},
   "outputs": [],
   "source": [
    "import random\n",
    "import json\n",
    "from datetime import timedelta"
   ]
  },
  {
   "cell_type": "code",
   "execution_count": 51,
   "metadata": {},
   "outputs": [],
   "source": [
    "schema = {\n",
    "    \"id\": 1,\n",
    "    \"type\" : \"object\",\n",
    "    \"properties\" : {\n",
    "        \"name\" : {\"type\" : \"string\"},\n",
    "        \"count\" : {\"type\" : \"integer\"},\n",
    "        \"price\" : {\"type\" : \"number\"},\n",
    "        \"date\" : {\"type\" : \"string\", \"format\" : \"date-time\"}\n",
    "    }\n",
    "}"
   ]
  },
  {
   "cell_type": "code",
   "execution_count": 96,
   "metadata": {},
   "outputs": [],
   "source": [
    "def add_re_for_formats(schema):\n",
    "    if schema[\"properties\"][\"date\"][\"format\"] == \"date\" or schema[\"properties\"][\"date\"][\"format\"] == \"date-time\":\n",
    "        schema[\"properties\"][\"date\"][\"pattern\"] = \"^(-?(?:[1-9][0-9]*)?[0-9]{4})-(1[0-2]|0[1-9])-(3[01]|0[1-9]|[12][0-9])T(2[0-3]|[01][0-9]):([0-5][0-9]):([0-5][0-9])(\\.[0-9]+)?(Z|[+-](?:2[0-3]|[01][0-9]):[0-5][0-9])?$\"\n",
    "\n",
    "    if schema[\"properties\"][\"date\"][\"format\"] == \"time\":\n",
    "        schema[\"properties\"][\"date\"][\"pattern\"] = \"([0-9]{2}:){2}[0-9]{2}\"\n",
    "\n",
    "def get_random_date():\n",
    "    try:\n",
    "        date1 = exrex.getone('(0[1-9]|1[0-9]|2[0-9]|3[0-1])-(0[1-9]|1[0-2])-20(20|1[0-9]|0[1-9])')\n",
    "        return datetime.strptime(date1, '%d-%m-%Y')\n",
    "    except ValueError:\n",
    "        get_random_date()\n",
    "        \n",
    "def get_random_time():\n",
    "    time1 =exrex.getone('(0[1-9]|1[0-9]|2[0-3]):(0[1-9]|[1-5][0-9]):(0[1-9]|[1-5][0-9])')\n",
    "    return time.fromisoformat(time1)\n",
    "\n",
    "def get_random_datetime():\n",
    "    try:\n",
    "        date1 = exrex.getone('(0[1-9]|1[0-9]|2[0-3]):(0[1-9]|[1-5][0-9]):(0[1-9]|[1-5][0-9]) (0[1-9]|1[0-9]|2[0-9]|3[0-1])-(0[1-9]|1[0-2])-20(20|1[0-9]|0[1-9])')\n",
    "        return datetime.strptime(date1, '%H:%M:%S %d-%m-%Y')\n",
    "    except ValueError:\n",
    "        get_random_datetime()\n",
    "\n",
    "        \n",
    "def get_random_bigger_date(start, delta):\n",
    "    end = start + timedelta(days = delta)\n",
    "    deltta = end - start\n",
    "    int_delta = (deltta.days * 24 * 60 * 60) + deltta.seconds\n",
    "    random_second = random.randrange(int_delta)\n",
    "    return start + timedelta(seconds=random_second)\n",
    "\n",
    "def generate_datetime(sch, item, delta, start=''):\n",
    "    if sch[\"properties\"][item][\"format\"] == \"date\":\n",
    "        if delta == 0:\n",
    "            return get_random_date().isoformat()\n",
    "        else:\n",
    "            start = datetime.fromisoformat(start)\n",
    "            return get_random_bigger_date(start, delta).isoformat()\n",
    "        \n",
    "    if sch[\"properties\"][item][\"format\"] == \"time\":\n",
    "        return get_random_time().isoformat()\n",
    "        \n",
    "    if sch[\"properties\"][item][\"format\"] == \"date-time\":\n",
    "        if delta == 0:\n",
    "            return get_random_datetime().isoformat()\n",
    "        else:\n",
    "            start = datetime.fromisoformat(start)\n",
    "            return get_random_bigger_date(start, delta).isoformat()  \n",
    "\n",
    "def date_str_to_sec(date_str):\n",
    "    return (datetime.fromisoformat(date_str) - datetime(1970,1,1)).total_seconds()\n",
    "\n",
    "def time_str_to_sec(time_str):\n",
    "    t = time.fromisoformat(time_str)\n",
    "    return t.hour*60*60 + t.minute*60 + t.second + t.microsecond/1000000"
   ]
  },
  {
   "cell_type": "code",
   "execution_count": 684,
   "metadata": {},
   "outputs": [],
   "source": [
    "add_re_for_formats(schema)"
   ]
  },
  {
   "cell_type": "code",
   "execution_count": 685,
   "metadata": {},
   "outputs": [
    {
     "data": {
      "text/plain": [
       "{'id': 1,\n",
       " 'type': 'object',\n",
       " 'properties': {'name': {'type': 'string'},\n",
       "  'count': {'type': 'integer'},\n",
       "  'price': {'type': 'number'},\n",
       "  'date': {'type': 'string',\n",
       "   'format': 'date-time',\n",
       "   'pattern': '^(-?(?:[1-9][0-9]*)?[0-9]{4})-(1[0-2]|0[1-9])-(3[01]|0[1-9]|[12][0-9])T(2[0-3]|[01][0-9]):([0-5][0-9]):([0-5][0-9])(\\\\.[0-9]+)?(Z|[+-](?:2[0-3]|[01][0-9]):[0-5][0-9])?$'}}}"
      ]
     },
     "execution_count": 685,
     "metadata": {},
     "output_type": "execute_result"
    }
   ],
   "source": [
    "schema"
   ]
  },
  {
   "cell_type": "code",
   "execution_count": 686,
   "metadata": {},
   "outputs": [
    {
     "data": {
      "text/plain": [
       "'2005-12-22T01:08:01'"
      ]
     },
     "execution_count": 686,
     "metadata": {},
     "output_type": "execute_result"
    }
   ],
   "source": [
    "generate_datetime(schema, \"date\",0)"
   ]
  },
  {
   "cell_type": "code",
   "execution_count": 19,
   "metadata": {},
   "outputs": [
    {
     "ename": "ValidationError",
     "evalue": "'porridge' does not match '([0-9]{2}:){2}[0-9]{2}'\n\nFailed validating 'pattern' in schema['properties']['name']:\n    {'pattern': '([0-9]{2}:){2}[0-9]{2}', 'type': 'string'}\n\nOn instance['name']:\n    'porridge'",
     "output_type": "error",
     "traceback": [
      "\u001b[0;31m---------------------------------------------------------------------------\u001b[0m",
      "\u001b[0;31mValidationError\u001b[0m                           Traceback (most recent call last)",
      "\u001b[0;32m<ipython-input-19-ee0cf71be64c>\u001b[0m in \u001b[0;36m<module>\u001b[0;34m\u001b[0m\n\u001b[0;32m----> 1\u001b[0;31m \u001b[0mvalidate\u001b[0m\u001b[0;34m(\u001b[0m\u001b[0minstance\u001b[0m\u001b[0;34m=\u001b[0m\u001b[0;34m{\u001b[0m\u001b[0;34m\"id\"\u001b[0m\u001b[0;34m:\u001b[0m \u001b[0;36m1\u001b[0m\u001b[0;34m,\u001b[0m \u001b[0;34m\"name\"\u001b[0m\u001b[0;34m:\u001b[0m \u001b[0;34m\"porridge\"\u001b[0m\u001b[0;34m,\u001b[0m \u001b[0;34m\"price\"\u001b[0m\u001b[0;34m:\u001b[0m \u001b[0;36m8.2\u001b[0m\u001b[0;34m,\u001b[0m \u001b[0;34m\"count\"\u001b[0m\u001b[0;34m:\u001b[0m \u001b[0;36m1\u001b[0m\u001b[0;34m,\u001b[0m \u001b[0;34m\"date\"\u001b[0m\u001b[0;34m:\u001b[0m \u001b[0;34m'2020-01-30T00/00:00'\u001b[0m\u001b[0;34m}\u001b[0m\u001b[0;34m,\u001b[0m \u001b[0mschema\u001b[0m\u001b[0;34m=\u001b[0m\u001b[0mschema\u001b[0m\u001b[0;34m)\u001b[0m\u001b[0;34m\u001b[0m\u001b[0;34m\u001b[0m\u001b[0m\n\u001b[0m",
      "\u001b[0;32m~/anaconda3/lib/python3.7/site-packages/jsonschema/validators.py\u001b[0m in \u001b[0;36mvalidate\u001b[0;34m(instance, schema, cls, *args, **kwargs)\u001b[0m\n\u001b[1;32m    932\u001b[0m     \u001b[0merror\u001b[0m \u001b[0;34m=\u001b[0m \u001b[0mexceptions\u001b[0m\u001b[0;34m.\u001b[0m\u001b[0mbest_match\u001b[0m\u001b[0;34m(\u001b[0m\u001b[0mvalidator\u001b[0m\u001b[0;34m.\u001b[0m\u001b[0miter_errors\u001b[0m\u001b[0;34m(\u001b[0m\u001b[0minstance\u001b[0m\u001b[0;34m)\u001b[0m\u001b[0;34m)\u001b[0m\u001b[0;34m\u001b[0m\u001b[0;34m\u001b[0m\u001b[0m\n\u001b[1;32m    933\u001b[0m     \u001b[0;32mif\u001b[0m \u001b[0merror\u001b[0m \u001b[0;32mis\u001b[0m \u001b[0;32mnot\u001b[0m \u001b[0;32mNone\u001b[0m\u001b[0;34m:\u001b[0m\u001b[0;34m\u001b[0m\u001b[0;34m\u001b[0m\u001b[0m\n\u001b[0;32m--> 934\u001b[0;31m         \u001b[0;32mraise\u001b[0m \u001b[0merror\u001b[0m\u001b[0;34m\u001b[0m\u001b[0;34m\u001b[0m\u001b[0m\n\u001b[0m\u001b[1;32m    935\u001b[0m \u001b[0;34m\u001b[0m\u001b[0m\n\u001b[1;32m    936\u001b[0m \u001b[0;34m\u001b[0m\u001b[0m\n",
      "\u001b[0;31mValidationError\u001b[0m: 'porridge' does not match '([0-9]{2}:){2}[0-9]{2}'\n\nFailed validating 'pattern' in schema['properties']['name']:\n    {'pattern': '([0-9]{2}:){2}[0-9]{2}', 'type': 'string'}\n\nOn instance['name']:\n    'porridge'"
     ]
    }
   ],
   "source": [
    "validate(instance={\"id\": 1, \"name\": \"porridge\", \"price\": 8.2, \"count\": 1, \"date\": '2020-01-30T00/00:00'}, schema=schema)"
   ]
  },
  {
   "cell_type": "code",
   "execution_count": 860,
   "metadata": {},
   "outputs": [],
   "source": [
    "dates = []\n",
    "dates_sec = []"
   ]
  },
  {
   "cell_type": "code",
   "execution_count": 861,
   "metadata": {
    "scrolled": false
   },
   "outputs": [],
   "source": [
    "# for dates\n",
    "for i in range(30):\n",
    "    try:\n",
    "        dates.append(generate_datetime(\"date-time\", 1, dates[-1]))\n",
    "        dates_sec.append(date_str_to_sec(dates[-1]))\n",
    "    except IndexError:\n",
    "        dates.append(generate_datetime(\"date-time\", 0))\n",
    "        dates_sec.append(date_str_to_sec(dates[-1]))"
   ]
  },
  {
   "cell_type": "code",
   "execution_count": 862,
   "metadata": {},
   "outputs": [
    {
     "name": "stdout",
     "output_type": "stream",
     "text": [
      "['2014-11-18T22:03:11', '2014-11-19T05:56:21', '2014-11-19T16:03:28', '2014-11-20T07:05:35', '2014-11-20T19:33:05'] [1416348191.0, 1416376581.0, 1416413008.0, 1416467135.0, 1416511985.0]\n"
     ]
    }
   ],
   "source": [
    "for i in range(10):\n",
    "    dates.append(generate_datetime(\"date-time\", 0))\n",
    "    dates_sec.append(date_str_to_sec(dates[-1]))\n",
    "\n",
    "print(dates[:5], dates_sec[:5])"
   ]
  },
  {
   "cell_type": "code",
   "execution_count": 508,
   "metadata": {},
   "outputs": [
    {
     "ename": "ValueError",
     "evalue": "Invalid isoformat string: '2014-08-27T11:26:35'",
     "output_type": "error",
     "traceback": [
      "\u001b[0;31m---------------------------------------------------------------------------\u001b[0m",
      "\u001b[0;31mValueError\u001b[0m                                Traceback (most recent call last)",
      "\u001b[0;32m<ipython-input-508-8f744c5fc2df>\u001b[0m in \u001b[0;36m<module>\u001b[0;34m\u001b[0m\n\u001b[1;32m      2\u001b[0m \u001b[0;32mfor\u001b[0m \u001b[0mi\u001b[0m \u001b[0;32min\u001b[0m \u001b[0mrange\u001b[0m\u001b[0;34m(\u001b[0m\u001b[0;36m50\u001b[0m\u001b[0;34m)\u001b[0m\u001b[0;34m:\u001b[0m\u001b[0;34m\u001b[0m\u001b[0;34m\u001b[0m\u001b[0m\n\u001b[1;32m      3\u001b[0m     \u001b[0mdates\u001b[0m\u001b[0;34m.\u001b[0m\u001b[0mappend\u001b[0m\u001b[0;34m(\u001b[0m\u001b[0mgenerate_datetime\u001b[0m\u001b[0;34m(\u001b[0m\u001b[0mschema\u001b[0m\u001b[0;34m,\u001b[0m \u001b[0;34m\"date\"\u001b[0m\u001b[0;34m,\u001b[0m \u001b[0;36m0\u001b[0m\u001b[0;34m)\u001b[0m\u001b[0;34m)\u001b[0m\u001b[0;34m\u001b[0m\u001b[0;34m\u001b[0m\u001b[0m\n\u001b[0;32m----> 4\u001b[0;31m     \u001b[0mdates_sec\u001b[0m\u001b[0;34m.\u001b[0m\u001b[0mappend\u001b[0m\u001b[0;34m(\u001b[0m\u001b[0mtime_str_to_sec\u001b[0m\u001b[0;34m(\u001b[0m\u001b[0mdates\u001b[0m\u001b[0;34m[\u001b[0m\u001b[0;34m-\u001b[0m\u001b[0;36m1\u001b[0m\u001b[0;34m]\u001b[0m\u001b[0;34m)\u001b[0m\u001b[0;34m)\u001b[0m\u001b[0;34m\u001b[0m\u001b[0;34m\u001b[0m\u001b[0m\n\u001b[0m\u001b[1;32m      5\u001b[0m \u001b[0;34m\u001b[0m\u001b[0m\n\u001b[1;32m      6\u001b[0m \u001b[0mprint\u001b[0m\u001b[0;34m(\u001b[0m\u001b[0mdates\u001b[0m\u001b[0;34m[\u001b[0m\u001b[0;34m:\u001b[0m\u001b[0;36m5\u001b[0m\u001b[0;34m]\u001b[0m\u001b[0;34m,\u001b[0m \u001b[0mdates_sec\u001b[0m\u001b[0;34m[\u001b[0m\u001b[0;34m:\u001b[0m\u001b[0;36m5\u001b[0m\u001b[0;34m]\u001b[0m\u001b[0;34m)\u001b[0m\u001b[0;34m\u001b[0m\u001b[0;34m\u001b[0m\u001b[0m\n",
      "\u001b[0;32m<ipython-input-456-f2d019c38dbe>\u001b[0m in \u001b[0;36mtime_str_to_sec\u001b[0;34m(time_str)\u001b[0m\n\u001b[1;32m     54\u001b[0m \u001b[0;34m\u001b[0m\u001b[0m\n\u001b[1;32m     55\u001b[0m \u001b[0;32mdef\u001b[0m \u001b[0mtime_str_to_sec\u001b[0m\u001b[0;34m(\u001b[0m\u001b[0mtime_str\u001b[0m\u001b[0;34m)\u001b[0m\u001b[0;34m:\u001b[0m\u001b[0;34m\u001b[0m\u001b[0;34m\u001b[0m\u001b[0m\n\u001b[0;32m---> 56\u001b[0;31m     \u001b[0mt\u001b[0m \u001b[0;34m=\u001b[0m \u001b[0mtime\u001b[0m\u001b[0;34m.\u001b[0m\u001b[0mfromisoformat\u001b[0m\u001b[0;34m(\u001b[0m\u001b[0mtime_str\u001b[0m\u001b[0;34m)\u001b[0m\u001b[0;34m\u001b[0m\u001b[0;34m\u001b[0m\u001b[0m\n\u001b[0m\u001b[1;32m     57\u001b[0m     \u001b[0;32mreturn\u001b[0m \u001b[0mt\u001b[0m\u001b[0;34m.\u001b[0m\u001b[0mhour\u001b[0m\u001b[0;34m*\u001b[0m\u001b[0;36m60\u001b[0m\u001b[0;34m*\u001b[0m\u001b[0;36m60\u001b[0m \u001b[0;34m+\u001b[0m \u001b[0mt\u001b[0m\u001b[0;34m.\u001b[0m\u001b[0mminute\u001b[0m\u001b[0;34m*\u001b[0m\u001b[0;36m60\u001b[0m \u001b[0;34m+\u001b[0m \u001b[0mt\u001b[0m\u001b[0;34m.\u001b[0m\u001b[0msecond\u001b[0m \u001b[0;34m+\u001b[0m \u001b[0mt\u001b[0m\u001b[0;34m.\u001b[0m\u001b[0mmicrosecond\u001b[0m\u001b[0;34m/\u001b[0m\u001b[0;36m1000000\u001b[0m\u001b[0;34m\u001b[0m\u001b[0;34m\u001b[0m\u001b[0m\n",
      "\u001b[0;31mValueError\u001b[0m: Invalid isoformat string: '2014-08-27T11:26:35'"
     ]
    }
   ],
   "source": [
    "#for times\n",
    "for i in range(50):\n",
    "    dates.append(generate_datetime(\"time\", 0))\n",
    "    dates_sec.append(time_str_to_sec(dates[-1]))\n",
    "\n",
    "print(dates[:5], dates_sec[:5])"
   ]
  },
  {
   "cell_type": "code",
   "execution_count": 160,
   "metadata": {},
   "outputs": [],
   "source": [
    "def to_subtraction(samples):\n",
    "    new_samples = []\n",
    "    for i in range(1, len(samples)):\n",
    "        new_samples.append(samples[i]-samples[i-1])\n",
    "    return new_samples"
   ]
  },
  {
   "cell_type": "code",
   "execution_count": 176,
   "metadata": {},
   "outputs": [],
   "source": [
    "with open('data/collection11.json', 'r') as json_file:\n",
    "    data0 = json.loads(json_file.read())"
   ]
  },
  {
   "cell_type": "code",
   "execution_count": 177,
   "metadata": {},
   "outputs": [],
   "source": [
    "with open('data/anomaly11_id_11.json', 'r') as json_file:\n",
    "    data11 = json.loads(json_file.read())"
   ]
  },
  {
   "cell_type": "code",
   "execution_count": 178,
   "metadata": {},
   "outputs": [],
   "source": [
    "samp = []\n",
    "for x in data0 + data11:\n",
    "    samp.append(fromformat_to_timestamp(x[\"date\"], \"%Y.%m.%d\"))\n",
    "    #samp.append(len(x[\"date\"]))\n",
    "    \n",
    "#np.array(samp[18:23])"
   ]
  },
  {
   "cell_type": "code",
   "execution_count": 179,
   "metadata": {},
   "outputs": [],
   "source": [
    "samp = to_subtraction(samp)"
   ]
  },
  {
   "cell_type": "code",
   "execution_count": 180,
   "metadata": {
    "scrolled": false
   },
   "outputs": [
    {
     "data": {
      "image/png": "[encoded data removed]",
      "text/plain": [
       "<Figure size 720x432 with 1 Axes>"
      ]
     },
     "metadata": {
      "needs_background": "light"
     },
     "output_type": "display_data"
    }
   ],
   "source": [
    "datesnp = np.array(samp)\n",
    "model=\"rbf\"\n",
    "algo = rpt.Pelt(model=model, min_size=1, jump=1).fit(datesnp)\n",
    "#algo = rpt.Binseg(model=model, jump=1).fit(datesnp)\n",
    "result = algo.predict(pen=5)\n",
    "rpt.show.display(datesnp, result, figsize=(10, 6))\n",
    "plt.title('Change Point Detection: Pelt Search Method')\n",
    "plt.savefig('2.jpg')\n",
    "plt.show()"
   ]
  },
  {
   "cell_type": "code",
   "execution_count": 148,
   "metadata": {},
   "outputs": [
    {
     "data": {
      "text/plain": [
       "array([184])"
      ]
     },
     "execution_count": 148,
     "metadata": {},
     "output_type": "execute_result"
    }
   ],
   "source": [
    "np.array(result) + 1"
   ]
  },
  {
   "cell_type": "code",
   "execution_count": 567,
   "metadata": {},
   "outputs": [
    {
     "name": "stdout",
     "output_type": "stream",
     "text": [
      "14\n",
      "11\n"
     ]
    }
   ],
   "source": [
    "sampt = []\n",
    "for j in range(len(result)):\n",
    "    length = result[j] - 22 if j == 0 else result[j] - result[j - 1]\n",
    "    print(length)\n",
    "    for k in range(length):\n",
    "        if j % 2 == 0:\n",
    "            sampt.append(0)\n",
    "        else:\n",
    "            sampt.append(1)"
   ]
  },
  {
   "cell_type": "code",
   "execution_count": 775,
   "metadata": {},
   "outputs": [],
   "source": [
    "from jsonschema import Draft7Validator"
   ]
  },
  {
   "cell_type": "code",
   "execution_count": 568,
   "metadata": {},
   "outputs": [
    {
     "data": {
      "text/plain": [
       "[0, 0, 0, 0, 0, 0, 0, 0, 0, 0, 0, 0, 0, 0, 1, 1, 1, 1, 1, 1, 1, 1, 1, 1, 1]"
      ]
     },
     "execution_count": 568,
     "metadata": {},
     "output_type": "execute_result"
    }
   ],
   "source": [
    "sampt"
   ]
  },
  {
   "cell_type": "code",
   "execution_count": 2,
   "metadata": {},
   "outputs": [],
   "source": [
    "schema = {\n",
    "    \"id\": 1,\n",
    "    \"type\" : \"object\",\n",
    "    \"properties\" : {\n",
    "        \"name\" : {\"type\" : \"string\", \"pattern\": \"([0-9]{2}:){2}[0-9]{2}\"},\n",
    "        \"count\" : {\"type\" : \"integer\"},\n",
    "        \"price\" : {\"type\" : \"number\"},\n",
    "        \"date\" : {\"type\" : \"string\", \"format\" : \"date-time\"},\n",
    "        \"list\" : {\"type\" : \"array\", \"items\": { \"type\" : \"array\", \"items\":{\"type\": \"string\", \"format\": \"date-time\"}}}\n",
    "    }\n",
    "}"
   ]
  },
  {
   "cell_type": "code",
   "execution_count": 5,
   "metadata": {},
   "outputs": [],
   "source": [
    "def generate_float(sch, field):\n",
    "    if sch[\"properties\"][field][\"type\"] == \"array\":\n",
    "        try:\n",
    "            return random.randrange(sch[\"properties\"][field][\"items\"][\"minimum\"],\n",
    "                                    sch[\"properties\"][field][\"items\"][\"maximum\"]) + round(random.random(), 3)\n",
    "        except:\n",
    "            return random.randrange(1, 20) + round(random.random(), 3)\n",
    "    else:\n",
    "        try:\n",
    "            return random.randrange(sch[\"properties\"][field][\"minimum\"],\n",
    "                                    sch[\"properties\"][field][\"maximum\"]) + round(random.random(), 3)\n",
    "        except:\n",
    "            return random.randrange(1, 20) + round(random.random(), 3)\n",
    "\n",
    "\n",
    "def generate_string(sch, field):\n",
    "    if sch[\"properties\"][field][\"type\"] == \"array\":\n",
    "        try:\n",
    "            pat = sch[\"properties\"][field][\"items\"][\"pattern\"]\n",
    "            return exrex.getone(pat)\n",
    "        except KeyError:\n",
    "            letters = string.ascii_lowercase\n",
    "            try:\n",
    "                length = random.randint(sch[\"properties\"][field][\"items\"][\"minlength\"], \n",
    "                                        sch[\"properties\"][field][\"items\"][\"maxlength\"])\n",
    "            except:\n",
    "                length = random.randint(3, 10)\n",
    "            return ''.join(random.choice(letters) for i in range(length))\n",
    "    else:\n",
    "        try:\n",
    "            pat = sch[\"properties\"][field][\"pattern\"]\n",
    "            return exrex.getone(pat)\n",
    "        except KeyError:\n",
    "            letters = string.ascii_lowercase\n",
    "            try:\n",
    "                length = random.randint(sch[\"properties\"][field][\"minlength\"],\n",
    "                                        sch[\"properties\"][field][\"maxlength\"])\n",
    "            except:\n",
    "                length = random.randint(3, 10)\n",
    "            return ''.join(random.choice(letters) for i in range(length))\n",
    "\n",
    "\n",
    "def generate_int(sch, field):\n",
    "    if sch[\"properties\"][field][\"type\"] == \"array\":\n",
    "        try:\n",
    "            return random.randint(sch[\"properties\"][field]['items'][\"minimum\"],\n",
    "                                  sch[\"properties\"][field]['items'][\"maximum\"])\n",
    "        except:\n",
    "            return random.randint(0, 15)\n",
    "    else:\n",
    "        try:\n",
    "            return random.randint(sch[\"properties\"][field][\"minimum\"], sch[\"properties\"][field][\"maximum\"])\n",
    "        except:\n",
    "            return random.randint(0, 15)\n",
    "\n",
    "\n",
    "def generate_phone_number(sch, err):\n",
    "    if err == 0:\n",
    "        return \"+79\" + str(random.randint(111111111, 999999999))\n",
    "    else:\n",
    "        return \"8(9\" + str(random.randint(11, 99)) + ')' + str(random.randint(1111111, 9999999))\n",
    "\n",
    "\n",
    "#-------------------------------------------------------------------------------------------------------------------\n",
    "#for date and time\n",
    "def add_re_for_formats(schema):\n",
    "    if schema[\"properties\"][\"date\"][\"format\"] == \"date\" or schema[\"properties\"][\"date\"][\"format\"] == \"date-time\":\n",
    "        schema[\"properties\"][\"date\"][\"pattern\"] = \"^(-?(?:[1-9][0-9]*)?[0-9]{4})-(1[0-2]|0[1-9])-(3[01]|0[1-9]|[12][0-9])T(2[0-3]|[01][0-9]):([0-5][0-9]):([0-5][0-9])(\\.[0-9]+)?(Z|[+-](?:2[0-3]|[01][0-9]):[0-5][0-9])?$\"\n",
    "\n",
    "    if schema[\"properties\"][\"date\"][\"format\"] == \"time\":\n",
    "        schema[\"properties\"][\"date\"][\"pattern\"] = \"([0-9]{2}:){2}[0-9]{2}\"\n",
    "\n",
    "\n",
    "def get_random_date():\n",
    "    while 1:\n",
    "        try:\n",
    "            date1 = exrex.getone('(0[1-9]|1[0-9]|2[0-9]|3[0-1])-(0[1-9]|1[0-2])-20(1[0-9]|0[1-9])')\n",
    "            d = datetime.strptime(date1, '%d-%m-%Y').isoformat()\n",
    "            return d\n",
    "        except ValueError:\n",
    "            continue\n",
    "\n",
    "\n",
    "def get_random_time():\n",
    "    time1 = exrex.getone('(0[1-9]|1[0-9]|2[0-3]):(0[1-9]|[1-5][0-9]):(0[1-9]|[1-5][0-9])')\n",
    "    return time.fromisoformat(time1)\n",
    "\n",
    "\n",
    "def get_random_datetime():\n",
    "    while 1:\n",
    "        try:\n",
    "            date1 = exrex.getone('(0[1-9]|1[0-9]|2[0-3]):(0[1-9]|[1-5][0-9]):(0[1-9]|[1-5][0-9]) (0[1-9]|1[0-9]|2[0-9]|3[0-1])-(0[1-9]|1[0-2])-20(1[0-9]|0[1-9])')\n",
    "            d = datetime.strptime(date1, '%H:%M:%S %d-%m-%Y')\n",
    "            return d.isoformat()\n",
    "        except ValueError:\n",
    "            continue\n",
    "\n",
    "\n",
    "def get_random_bigger_date(start, delta):\n",
    "    end = start + timedelta(days=delta)\n",
    "    before_start = start - timedelta(days=delta)\n",
    "    deltta = end - before_start\n",
    "    int_delta = (deltta.days * 24 * 60 * 60) + deltta.seconds\n",
    "    random_second = random.randrange(int_delta)\n",
    "    return before_start + timedelta(seconds=random_second)\n",
    "\n",
    "'''\n",
    "def generate_datetime(sch, item, delta, start=''):\n",
    "    if sch[\"properties\"][item][\"format\"] == \"date\":\n",
    "        if delta == 0:\n",
    "            return get_random_date()\n",
    "        else:\n",
    "            if start != '':\n",
    "                start = datetime.fromisoformat(start)\n",
    "                return get_random_bigger_date(start, delta).isoformat()\n",
    "            else:\n",
    "                return get_random_date()\n",
    "\n",
    "    if sch[\"properties\"][item][\"format\"] == \"time\":\n",
    "        return get_random_time().isoformat()\n",
    "\n",
    "    if sch[\"properties\"][item][\"format\"] == \"date-time\":\n",
    "        if delta == 0:\n",
    "            return get_random_datetime()\n",
    "        else:\n",
    "            if start != '':\n",
    "                start = datetime.fromisoformat(start)\n",
    "                return get_random_bigger_date(start, delta).isoformat()\n",
    "            else:\n",
    "                return get_random_datetime()'''\n",
    "\n",
    "            \n",
    "def generate_datetime(f, delta, start=''):\n",
    "    if f == \"date\":\n",
    "        if delta == 0:\n",
    "            return get_random_date()\n",
    "        else:\n",
    "            if start != '':\n",
    "                start = datetime.fromisoformat(start)\n",
    "                return get_random_bigger_date(start, delta).isoformat()\n",
    "            else:\n",
    "                return get_random_date()\n",
    "\n",
    "    if f == \"time\":\n",
    "        return get_random_time().isoformat()\n",
    "\n",
    "    if f == \"date-time\":\n",
    "        if delta == 0:\n",
    "            return get_random_datetime()\n",
    "        else:\n",
    "            if start != '':\n",
    "                start = datetime.fromisoformat(start)\n",
    "                return get_random_bigger_date(start, delta).isoformat()\n",
    "            else:\n",
    "                return get_random_datetime()"
   ]
  },
  {
   "cell_type": "code",
   "execution_count": 16,
   "metadata": {},
   "outputs": [],
   "source": [
    "def generate_array(sch, field, length):\n",
    "    try:\n",
    "        type_of_item = sch[\"properties\"][field][\"items\"][\"type\"]\n",
    "        if type_of_item == \"number\":\n",
    "            return [generate_float(sch, field) for i in range(length)]\n",
    "        if type_of_item == \"integer\":\n",
    "            return [generate_int(sch, field) for i in range(length)]\n",
    "        if type_of_item == \"string\":\n",
    "            try:\n",
    "                Format = sch[\"properties\"][field][\"items\"][\"format\"]\n",
    "                return [generate_datetime_f(Format, 0) for i in range(length)]\n",
    "            except KeyError:\n",
    "                return [generate_string(sch, field) for i in range(length)]\n",
    "        if type_of_item == \"array\":\n",
    "            try:\n",
    "                type_of_item = sch[\"properties\"][field][\"items\"][\"items\"][\"type\"]\n",
    "                if type_of_item == \"number\":\n",
    "                    return [[generate_float(sch, field) for i in range(length)]\n",
    "                            for j in range(random.randint(np.abs(length-3), length + 3))]\n",
    "                if type_of_item == \"integer\":\n",
    "                    return [[generate_int(sch, field) for i in range(length)]\n",
    "                            for j in range(random.randint(np.abs(length-3), length + 3))]\n",
    "                if type_of_item == \"string\":\n",
    "                    try:\n",
    "                        Format = sch[\"properties\"][field][\"items\"][\"items\"][\"format\"]\n",
    "                        return [[generate_datetime(Format, 0) for i in range(length)]\n",
    "                                for j in range(random.randint(np.abs(length-3), length + 3))]\n",
    "                    except KeyError:\n",
    "                        return [[generate_string(sch, field) for i in range(length)] \n",
    "                                for j in range(random.randint(np.abs(length-3), length + 3))]\n",
    "            except KeyError:\n",
    "                return [[generate_int(sch, field) for i in range(length)]\n",
    "                        for j in range(random.randint(np.abs(length-3), length + 3))]\n",
    "    except KeyError:\n",
    "        return [generate_int(sch, field) for i in range(length)]"
   ]
  },
  {
   "cell_type": "code",
   "execution_count": 18,
   "metadata": {},
   "outputs": [
    {
     "data": {
      "text/plain": [
       "4"
      ]
     },
     "execution_count": 18,
     "metadata": {},
     "output_type": "execute_result"
    }
   ],
   "source": [
    "len(generate_array(schema, 'list', 5))"
   ]
  },
  {
   "cell_type": "code",
   "execution_count": 823,
   "metadata": {},
   "outputs": [
    {
     "data": {
      "text/plain": [
       "'2007-03-22T21:48:51'"
      ]
     },
     "execution_count": 823,
     "metadata": {},
     "output_type": "execute_result"
    }
   ],
   "source": [
    "dt = get_random_datetime()\n",
    "dt"
   ]
  },
  {
   "cell_type": "code",
   "execution_count": 836,
   "metadata": {},
   "outputs": [
    {
     "data": {
      "text/plain": [
       "'2007-03-22T08:13:02'"
      ]
     },
     "execution_count": 836,
     "metadata": {},
     "output_type": "execute_result"
    }
   ],
   "source": [
    "generate_datetime('date-time', 2, dt)"
   ]
  },
  {
   "cell_type": "code",
   "execution_count": 38,
   "metadata": {},
   "outputs": [],
   "source": [
    "with open('data/collection11.json', 'r') as f:\n",
    "    data = json.loads(f.read())"
   ]
  },
  {
   "cell_type": "code",
   "execution_count": 31,
   "metadata": {},
   "outputs": [],
   "source": [
    "with open('data/anomaly6_id_11.json', 'r') as f:\n",
    "    data1 = json.loads(f.read())"
   ]
  },
  {
   "cell_type": "code",
   "execution_count": 39,
   "metadata": {},
   "outputs": [
    {
     "data": {
      "text/plain": [
       "{'idOfCrawler': 11, 'date': '2006-03-22'}"
      ]
     },
     "execution_count": 39,
     "metadata": {},
     "output_type": "execute_result"
    }
   ],
   "source": [
    "data[11]"
   ]
  },
  {
   "cell_type": "code",
   "execution_count": 29,
   "metadata": {},
   "outputs": [],
   "source": [
    "schem = {\n",
    "    \"id\": 1,\n",
    "    \"type\" : \"object\",\n",
    "    \"properties\" : {\n",
    "        \"title\" : {\"type\" : \"string\"},\n",
    "        \"date\" : {\"type\" : \"string\", \"format\" : \"date%Y-%m-%d %H:%M:%S\"},\n",
    "        \"text\" : {\"type\" : \"string\"},\n",
    "        \"tags\" : {\"type\" : \"array\", \"items\": { \"type\" : \"string\"}},\n",
    "        \"links\" : {\"type\" : \"array\"}\n",
    "    }\n",
    "}"
   ]
  },
  {
   "cell_type": "code",
   "execution_count": 41,
   "metadata": {},
   "outputs": [],
   "source": [
    "for i in range(len(data)):\n",
    "    date = data[i][\"date\"]\n",
    "    data[i][\"date\"] = date.replace('-','.')"
   ]
  },
  {
   "cell_type": "code",
   "execution_count": 33,
   "metadata": {},
   "outputs": [],
   "source": [
    "for i in range(len(data1)):\n",
    "    date = data1[i][\"date\"]\n",
    "    data1[i][\"date\"] = date.replace('-','.')"
   ]
  },
  {
   "cell_type": "code",
   "execution_count": 20,
   "metadata": {
    "scrolled": true
   },
   "outputs": [],
   "source": [
    "with open('data/anomaly11_id_10.json', 'w') as f:\n",
    "    json.dump(data[20:],f)"
   ]
  },
  {
   "cell_type": "code",
   "execution_count": 34,
   "metadata": {
    "scrolled": true
   },
   "outputs": [],
   "source": [
    "with open('data/anomaly6_id_11.json', 'w') as f:\n",
    "    json.dump(data1,f)"
   ]
  },
  {
   "cell_type": "code",
   "execution_count": 42,
   "metadata": {},
   "outputs": [],
   "source": [
    "with open('data/collection11.json', 'w') as f:\n",
    "    json.dump(data,f)"
   ]
  },
  {
   "cell_type": "code",
   "execution_count": 43,
   "metadata": {},
   "outputs": [],
   "source": [
    "with open('data/collection11.json', 'r') as f:\n",
    "    data1 = json.loads(f.read())"
   ]
  },
  {
   "cell_type": "code",
   "execution_count": 44,
   "metadata": {},
   "outputs": [
    {
     "name": "stdout",
     "output_type": "stream",
     "text": [
      "['2006.03.31', '2006.03.30', '2006.03.29', '2006.03.28', '2006.03.27', '2006.03.26', '2006.03.26', '2006.03.25', '2006.03.24', '2006.03.24', '2006.03.23']\n"
     ]
    }
   ],
   "source": [
    "print([data1[i][\"date\"] for i in range(11)])"
   ]
  },
  {
   "cell_type": "code",
   "execution_count": 947,
   "metadata": {},
   "outputs": [],
   "source": [
    "new_schema = {\n",
    "    \"type\" : \"object\",\n",
    "    \"properties\" : {\n",
    "        \"name\" : {\"type\" : \"string\"},\n",
    "        \"count\" : {\"type\" : \"integer\"},\n",
    "        \"price\" : {\"type\" : \"number\"},\n",
    "        \"customer name\": {\"type\": \"string\"},\n",
    "        \"list\" : {\"type\" : \"array\", \"items\" : {\"type\" : \"string\"}}\n",
    "    }\n",
    "}"
   ]
  },
  {
   "cell_type": "code",
   "execution_count": 948,
   "metadata": {},
   "outputs": [
    {
     "name": "stdout",
     "output_type": "stream",
     "text": [
      "name\n",
      "customer name\n"
     ]
    }
   ],
   "source": [
    "for key in new_schema[\"properties\"].keys():\n",
    "    if new_schema[\"properties\"][key]['type'] == \"string\":\n",
    "        print(key)"
   ]
  },
  {
   "cell_type": "code",
   "execution_count": 173,
   "metadata": {},
   "outputs": [],
   "source": [
    "sample  = {\n",
    "        \"customer name\": \"Mikhail\",\n",
    "        \"item\": \"deck\",\n",
    "        \"price\": \"3150\",\n",
    "        \"phone numbers\": [\"+79096248510\",\"+79167766789\"]\n",
    "    }\n",
    "\n",
    "sch = {\n",
    "        \"type\": \"object\", \n",
    "        \"properties\": {\n",
    "            \"customer name\": {\"type\": \"string\"},\n",
    "            \"item\": {\"type\": \"string\"},\n",
    "            \"price\": {\"type\": \"number\"},\n",
    "            \"phone numbers\": {\"type\": \"array\",\"items\": {\"type\": \"string\",\"pattern\":  \"89[0-9]{9}\"}}\n",
    "        }\n",
    "    }"
   ]
  },
  {
   "cell_type": "code",
   "execution_count": 46,
   "metadata": {},
   "outputs": [
    {
     "ename": "ValidationError",
     "evalue": "'3150' is not of type 'number'\n\nFailed validating 'type' in schema['properties']['price']:\n    {'type': 'number'}\n\nOn instance['price']:\n    '3150'",
     "output_type": "error",
     "traceback": [
      "\u001b[0;31m---------------------------------------------------------------------------\u001b[0m",
      "\u001b[0;31mValidationError\u001b[0m                           Traceback (most recent call last)",
      "\u001b[0;32m<ipython-input-46-98cf2d229831>\u001b[0m in \u001b[0;36m<module>\u001b[0;34m\u001b[0m\n\u001b[0;32m----> 1\u001b[0;31m \u001b[0mvalidate\u001b[0m\u001b[0;34m(\u001b[0m\u001b[0minstance\u001b[0m\u001b[0;34m=\u001b[0m\u001b[0msample\u001b[0m\u001b[0;34m,\u001b[0m \u001b[0mschema\u001b[0m\u001b[0;34m=\u001b[0m\u001b[0msch\u001b[0m\u001b[0;34m)\u001b[0m\u001b[0;34m\u001b[0m\u001b[0;34m\u001b[0m\u001b[0m\n\u001b[0m",
      "\u001b[0;32m~/anaconda3/lib/python3.7/site-packages/jsonschema/validators.py\u001b[0m in \u001b[0;36mvalidate\u001b[0;34m(instance, schema, cls, *args, **kwargs)\u001b[0m\n\u001b[1;32m    932\u001b[0m     \u001b[0merror\u001b[0m \u001b[0;34m=\u001b[0m \u001b[0mexceptions\u001b[0m\u001b[0;34m.\u001b[0m\u001b[0mbest_match\u001b[0m\u001b[0;34m(\u001b[0m\u001b[0mvalidator\u001b[0m\u001b[0;34m.\u001b[0m\u001b[0miter_errors\u001b[0m\u001b[0;34m(\u001b[0m\u001b[0minstance\u001b[0m\u001b[0;34m)\u001b[0m\u001b[0;34m)\u001b[0m\u001b[0;34m\u001b[0m\u001b[0;34m\u001b[0m\u001b[0m\n\u001b[1;32m    933\u001b[0m     \u001b[0;32mif\u001b[0m \u001b[0merror\u001b[0m \u001b[0;32mis\u001b[0m \u001b[0;32mnot\u001b[0m \u001b[0;32mNone\u001b[0m\u001b[0;34m:\u001b[0m\u001b[0;34m\u001b[0m\u001b[0;34m\u001b[0m\u001b[0m\n\u001b[0;32m--> 934\u001b[0;31m         \u001b[0;32mraise\u001b[0m \u001b[0merror\u001b[0m\u001b[0;34m\u001b[0m\u001b[0;34m\u001b[0m\u001b[0m\n\u001b[0m\u001b[1;32m    935\u001b[0m \u001b[0;34m\u001b[0m\u001b[0m\n\u001b[1;32m    936\u001b[0m \u001b[0;34m\u001b[0m\u001b[0m\n",
      "\u001b[0;31mValidationError\u001b[0m: '3150' is not of type 'number'\n\nFailed validating 'type' in schema['properties']['price']:\n    {'type': 'number'}\n\nOn instance['price']:\n    '3150'"
     ]
    }
   ],
   "source": [
    "validate(instance=sample, schema=sch)"
   ]
  },
  {
   "cell_type": "code",
   "execution_count": 17,
   "metadata": {},
   "outputs": [
    {
     "data": {
      "text/plain": [
       "8"
      ]
     },
     "execution_count": 17,
     "metadata": {},
     "output_type": "execute_result"
    }
   ],
   "source": [
    "round((random.random()*0.2+0.4)*20)"
   ]
  },
  {
   "cell_type": "code",
   "execution_count": 23,
   "metadata": {},
   "outputs": [
    {
     "ename": "ValueError",
     "evalue": "Invalid isoformat string: '2003-09-29T15:03:46'",
     "output_type": "error",
     "traceback": [
      "\u001b[0;31m---------------------------------------------------------------------------\u001b[0m",
      "\u001b[0;31mValueError\u001b[0m                                Traceback (most recent call last)",
      "\u001b[0;32m<ipython-input-23-66227d8064d6>\u001b[0m in \u001b[0;36m<module>\u001b[0;34m\u001b[0m\n\u001b[0;32m----> 1\u001b[0;31m \u001b[0mdate\u001b[0m\u001b[0;34m.\u001b[0m\u001b[0mfromisoformat\u001b[0m\u001b[0;34m(\u001b[0m\u001b[0;34m\"2003-09-29T15:03:46\"\u001b[0m\u001b[0;34m)\u001b[0m\u001b[0;34m\u001b[0m\u001b[0;34m\u001b[0m\u001b[0m\n\u001b[0m",
      "\u001b[0;31mValueError\u001b[0m: Invalid isoformat string: '2003-09-29T15:03:46'"
     ]
    }
   ],
   "source": [
    "date.fromisoformat(\"2003-09-29T15:03:46\")"
   ]
  },
  {
   "cell_type": "code",
   "execution_count": 26,
   "metadata": {},
   "outputs": [
    {
     "data": {
      "text/plain": [
       "'2003-09-29'"
      ]
     },
     "execution_count": 26,
     "metadata": {},
     "output_type": "execute_result"
    }
   ],
   "source": [
    "\"2003-09-29T15:03:46\"[:-9]"
   ]
  },
  {
   "cell_type": "code",
   "execution_count": 169,
   "metadata": {},
   "outputs": [],
   "source": [
    "def fromformat_to_timestamp(sample, date_format):\n",
    "    return np.abs((datetime.strptime(sample, date_format)  - datetime(1970, 1, 1)).total_seconds())"
   ]
  },
  {
   "cell_type": "code",
   "execution_count": 170,
   "metadata": {},
   "outputs": [
    {
     "data": {
      "text/plain": [
       "2208933000.0"
      ]
     },
     "execution_count": 170,
     "metadata": {},
     "output_type": "execute_result"
    }
   ],
   "source": [
    "fromformat_to_timestamp(\"15:30\", \"%H:%M\")"
   ]
  },
  {
   "cell_type": "code",
   "execution_count": 175,
   "metadata": {},
   "outputs": [
    {
     "ename": "KeyError",
     "evalue": "'format'",
     "output_type": "error",
     "traceback": [
      "\u001b[0;31m---------------------------------------------------------------------------\u001b[0m",
      "\u001b[0;31mKeyError\u001b[0m                                  Traceback (most recent call last)",
      "\u001b[0;32m<ipython-input-175-429757070d14>\u001b[0m in \u001b[0;36m<module>\u001b[0;34m\u001b[0m\n\u001b[0;32m----> 1\u001b[0;31m \u001b[0msch\u001b[0m\u001b[0;34m[\u001b[0m\u001b[0;34m\"properties\"\u001b[0m\u001b[0;34m]\u001b[0m\u001b[0;34m[\u001b[0m\u001b[0;34m\"item\"\u001b[0m\u001b[0;34m]\u001b[0m\u001b[0;34m[\u001b[0m\u001b[0;34m\"format\"\u001b[0m\u001b[0;34m]\u001b[0m\u001b[0;34m\u001b[0m\u001b[0;34m\u001b[0m\u001b[0m\n\u001b[0m",
      "\u001b[0;31mKeyError\u001b[0m: 'format'"
     ]
    }
   ],
   "source": [
    "sch[\"properties\"][\"item\"][\"format\"]"
   ]
  },
  {
   "cell_type": "code",
   "execution_count": 41,
   "metadata": {},
   "outputs": [],
   "source": [
    "with open('realData/ria_ok.json') as f:\n",
    "    ria_ok = [json.loads(line) for line in f]"
   ]
  },
  {
   "cell_type": "code",
   "execution_count": 30,
   "metadata": {
    "scrolled": true
   },
   "outputs": [
    {
     "data": {
      "text/plain": [
       "{'news'}"
      ]
     },
     "execution_count": 30,
     "metadata": {},
     "output_type": "execute_result"
    }
   ],
   "source": [
    "types = []\n",
    "for i in range(len(ria_ok)):\n",
    "    types.append(ria_ok[i]['type'])\n",
    "set(types)"
   ]
  },
  {
   "cell_type": "code",
   "execution_count": 43,
   "metadata": {},
   "outputs": [],
   "source": [
    "for i in range(len(ria_ok)):\n",
    "    del ria_ok[i]['id']\n",
    "    del ria_ok[i]['_id']\n",
    "    ria_ok[i]['datetime'] = str(ria_ok[i]['datetime'])\n",
    "    try:\n",
    "        del ria_ok[i]['datetime_modified']\n",
    "        #ria_ok[i]['datetime_modified'] = str(ria_ok[i]['datetime_modified'])\n",
    "    except KeyError:\n",
    "        continue"
   ]
  },
  {
   "cell_type": "code",
   "execution_count": 42,
   "metadata": {},
   "outputs": [],
   "source": [
    "ria_ok[20500]['datetime'] += 20000000"
   ]
  },
  {
   "cell_type": "code",
   "execution_count": 59,
   "metadata": {},
   "outputs": [],
   "source": [
    "with open('realData/ria_fail.json', 'r') as f:\n",
    "    ria_not_ok = [json.loads(line) for line in f]"
   ]
  },
  {
   "cell_type": "code",
   "execution_count": 60,
   "metadata": {},
   "outputs": [
    {
     "data": {
      "text/plain": [
       "319"
      ]
     },
     "execution_count": 60,
     "metadata": {},
     "output_type": "execute_result"
    }
   ],
   "source": [
    "len(ria_not_ok)"
   ]
  },
  {
   "cell_type": "code",
   "execution_count": 61,
   "metadata": {},
   "outputs": [],
   "source": [
    "for i in range(len(ria_not_ok)):\n",
    "    del ria_not_ok[i]['id']\n",
    "    ria_ok[i]['datetime'] = str(ria_not_ok[i]['datetime'])"
   ]
  },
  {
   "cell_type": "code",
   "execution_count": 62,
   "metadata": {},
   "outputs": [],
   "source": [
    "test = ria_ok[-300:] + ria_not_ok\n",
    "train = ria_ok[-900:-300]"
   ]
  },
  {
   "cell_type": "code",
   "execution_count": 63,
   "metadata": {},
   "outputs": [],
   "source": [
    "with open('data/anomaly12_id_12.json', 'w') as f:\n",
    "    json.dump(test,f)"
   ]
  },
  {
   "cell_type": "code",
   "execution_count": 64,
   "metadata": {},
   "outputs": [],
   "source": [
    "with open('data/collection12.json', 'w') as f:\n",
    "    json.dump(train,f)"
   ]
  },
  {
   "cell_type": "code",
   "execution_count": 44,
   "metadata": {},
   "outputs": [],
   "source": [
    "with open('data_ria.json', 'w') as f:\n",
    "    json.dump(ria_ok[20000:30000],f)"
   ]
  },
  {
   "cell_type": "code",
   "execution_count": 104,
   "metadata": {},
   "outputs": [
    {
     "data": {
      "text/plain": [
       "'https://www.ria.ru/571101/331505488.html'"
      ]
     },
     "execution_count": 104,
     "metadata": {},
     "output_type": "execute_result"
    }
   ],
   "source": [
    "exrex.getone('https:\\/\\/www\\.ria\\.ru\\/(\\d)*\\/(\\d)*\\.html')"
   ]
  },
  {
   "cell_type": "code",
   "execution_count": 47,
   "metadata": {},
   "outputs": [],
   "source": [
    "with open('/home/oem/ispras/Articlespider/articlespider/res1.json') as f:\n",
    "    data_SL = json.loads(f.read())"
   ]
  },
  {
   "cell_type": "code",
   "execution_count": 214,
   "metadata": {
    "scrolled": false
   },
   "outputs": [
    {
     "data": {
      "text/plain": [
       "147"
      ]
     },
     "execution_count": 214,
     "metadata": {},
     "output_type": "execute_result"
    }
   ],
   "source": [
    "len(data_SL) - 100"
   ]
  },
  {
   "cell_type": "code",
   "execution_count": 56,
   "metadata": {},
   "outputs": [],
   "source": [
    "with open('data/collection11.json', 'w') as f:\n",
    "    json.dump(data_SL[:100],f)"
   ]
  },
  {
   "cell_type": "code",
   "execution_count": 57,
   "metadata": {},
   "outputs": [],
   "source": [
    "with open('data/anomaly11_id_11.json', 'w') as f:\n",
    "    json.dump(data_SL[100:] + data_SL_old,f)"
   ]
  },
  {
   "cell_type": "code",
   "execution_count": 48,
   "metadata": {},
   "outputs": [],
   "source": [
    "with open('myDataSL.json', 'w') as f:\n",
    "    json.dump(data_SL + data_SL_old,f)"
   ]
  },
  {
   "cell_type": "code",
   "execution_count": 19,
   "metadata": {},
   "outputs": [
    {
     "ename": "AttributeError",
     "evalue": "'list' object has no attribute 'mean'",
     "output_type": "error",
     "traceback": [
      "\u001b[0;31m---------------------------------------------------------------------------\u001b[0m",
      "\u001b[0;31mAttributeError\u001b[0m                            Traceback (most recent call last)",
      "\u001b[0;32m<ipython-input-19-05bdc9d847c7>\u001b[0m in \u001b[0;36m<module>\u001b[0;34m\u001b[0m\n\u001b[0;32m----> 1\u001b[0;31m \u001b[0;34m[\u001b[0m\u001b[0;36m0\u001b[0m\u001b[0;34m,\u001b[0m\u001b[0;36m0\u001b[0m\u001b[0;34m,\u001b[0m\u001b[0;36m1\u001b[0m\u001b[0;34m,\u001b[0m\u001b[0;36m0\u001b[0m\u001b[0;34m,\u001b[0m \u001b[0;36m1\u001b[0m\u001b[0;34m,\u001b[0m\u001b[0;36m0\u001b[0m\u001b[0;34m,\u001b[0m\u001b[0;36m0\u001b[0m\u001b[0;34m,\u001b[0m\u001b[0;36m0\u001b[0m\u001b[0;34m]\u001b[0m\u001b[0;34m.\u001b[0m\u001b[0mmean\u001b[0m\u001b[0;34m\u001b[0m\u001b[0;34m\u001b[0m\u001b[0m\n\u001b[0m",
      "\u001b[0;31mAttributeError\u001b[0m: 'list' object has no attribute 'mean'"
     ]
    }
   ],
   "source": [
    "[0,0,1,0, 1,0,0,0].mean"
   ]
  },
  {
   "cell_type": "code",
   "execution_count": 21,
   "metadata": {},
   "outputs": [
    {
     "data": {
      "text/plain": [
       "0.0"
      ]
     },
     "execution_count": 21,
     "metadata": {},
     "output_type": "execute_result"
    }
   ],
   "source": [
    "np.mean(np.array([0]))"
   ]
  },
  {
   "cell_type": "code",
   "execution_count": 49,
   "metadata": {},
   "outputs": [],
   "source": [
    "with open('realData/yandex_news.json') as f:\n",
    "    yn = [json.loads(line) for line in f]"
   ]
  },
  {
   "cell_type": "code",
   "execution_count": 50,
   "metadata": {
    "scrolled": true
   },
   "outputs": [
    {
     "data": {
      "text/plain": [
       "{'news'}"
      ]
     },
     "execution_count": 50,
     "metadata": {},
     "output_type": "execute_result"
    }
   ],
   "source": [
    "types = []\n",
    "for i in range(len(ria_ok)):\n",
    "    types.append(ria_ok[i]['type'])\n",
    "set(types)"
   ]
  },
  {
   "cell_type": "code",
   "execution_count": 51,
   "metadata": {},
   "outputs": [
    {
     "data": {
      "text/plain": [
       "331703"
      ]
     },
     "execution_count": 51,
     "metadata": {},
     "output_type": "execute_result"
    }
   ],
   "source": [
    "len(yn)"
   ]
  },
  {
   "cell_type": "code",
   "execution_count": 53,
   "metadata": {},
   "outputs": [
    {
     "data": {
      "text/plain": [
       "{'_id': {'$oid': '5eae298b4641362ba322512a'},\n",
       " 'platform': 'yandex',\n",
       " 'category': 'Общество|society',\n",
       " 'story_url': 'https://yandex.ru/news/story/Minoborony_soobshhilo_o_chisle_zarazhennykh_koronavirusom_v_ryadakh_VS_Rossii--5788f5686a94c016ef013b3eaec567a4?lang=ru&from=rss&stid=DoJYyxEGbr0Xp3XOZV0L',\n",
       " 'agency': 'Русская Планета',\n",
       " 'datetime': 1588291140,\n",
       " 'title': 'Свыше тысячи военных заразились COVID-19 в России',\n",
       " 'type': 'news',\n",
       " 'url': 'https://rusplt.ru/society/svishe-tisyachi-voennikh-zarazilis-5eab2.html?utm_source=yxnews&utm_medium=desktop&utm_referrer=https%3A%2F%2Fyandex.ru%2Fnews',\n",
       " 'text': 'Свыше тысячи военных заразились COVID-19 в России'}"
      ]
     },
     "execution_count": 53,
     "metadata": {},
     "output_type": "execute_result"
    }
   ],
   "source": [
    "yn[1]"
   ]
  },
  {
   "cell_type": "code",
   "execution_count": 54,
   "metadata": {},
   "outputs": [],
   "source": [
    "for i in range(len(ria_ok)):\n",
    "    del yn[i]['_id']\n",
    "    yn[i]['datetime'] = str(yn[i]['datetime'])"
   ]
  },
  {
   "cell_type": "code",
   "execution_count": 55,
   "metadata": {},
   "outputs": [],
   "source": [
    "with open('data_yn.json', 'w') as f:\n",
    "    json.dump(yn[20000:30000],f)"
   ]
  },
  {
   "cell_type": "code",
   "execution_count": null,
   "metadata": {},
   "outputs": [],
   "source": []
  }
 ],
 "metadata": {
  "kernelspec": {
   "display_name": "Python 3",
   "language": "python",
   "name": "python3"
  },
  "language_info": {
   "codemirror_mode": {
    "name": "ipython",
    "version": 3
   },
   "file_extension": ".py",
   "mimetype": "text/x-python",
   "name": "python",
   "nbconvert_exporter": "python",
   "pygments_lexer": "ipython3",
   "version": "3.7.3"
  }
 },
 "nbformat": 4,
 "nbformat_minor": 2
}
