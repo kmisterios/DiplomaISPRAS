{
 "cells": [
  {
   "cell_type": "code",
   "execution_count": 1,
   "metadata": {},
   "outputs": [],
   "source": [
    "import requests\n",
    "import json\n",
    "from tqdm import tqdm\n",
    "from tqdm import tnrange\n",
    "from sklearn.metrics import f1_score\n",
    "from sklearn.metrics import accuracy_score\n",
    "import numpy as np\n",
    "import random"
   ]
  },
  {
   "cell_type": "code",
   "execution_count": 2,
   "metadata": {},
   "outputs": [],
   "source": [
    "def random_baseline(n):\n",
    "    p = random.randrange(0,n)\n",
    "    return [0 if i < p else 1 for i in range(n)]"
   ]
  },
  {
   "cell_type": "code",
   "execution_count": 137,
   "metadata": {},
   "outputs": [
    {
     "name": "stdout",
     "output_type": "stream",
     "text": [
      "{'idOfCrawler': 1, 'type': 'object', 'properties': {'price': {'type': 'number'}, 'count': {'type': 'number'}, 'name': {'type': 'string'}, 'customer name': {'type': 'string'}, 'phone number': {'type': 'string'}}}\n",
      "{'type': 'object', 'properties': {'legs': {'type': 'number'}}, 'idOfCrawler': 2}\n",
      "{'type': 'object', 'properties': {'name': {'type': 'string'}, 'count': {'type': 'integer'}, 'price': {'type': 'number'}, 'customer name': {'type': 'string'}}, 'idOfCrawler': 3}\n",
      "{'type': 'object', 'properties': {'name': {'type': 'string'}, 'count': {'type': 'integer'}, 'price': {'type': 'number'}, 'customer name': {'type': 'string'}, 'date': {'type': 'string', 'format': 'date-time'}, 'list': {'type': 'array'}}, 'idOfCrawler': 4}\n",
      "{'type': 'object', 'properties': {'name': {'type': 'string'}, 'count': {'type': 'integer'}, 'price': {'type': 'number'}, 'customer name': {'type': 'string'}, 'phone number': {'type': 'string'}, 'list': {'type': 'array', 'items': {'type': 'string'}}}, 'idOfCrawler': 5}\n",
      "{'type': 'object', 'properties': {'name': {'type': 'string'}, 'count': {'type': 'integer'}, 'price': {'type': 'number'}, 'customer name': {'type': 'string'}, 'phone number': {'type': 'string'}, 'time': {'type': 'string', 'format': 'date'}, 'list': {'type': 'array', 'items': {'type': 'string'}}}, 'idOfCrawler': 6}\n",
      "{'type': 'object', 'properties': {'name': {'type': 'string'}, 'count': {'type': 'integer'}, 'price': {'type': 'number'}, 'customer name': {'type': 'string'}, 'phone number': {'type': 'string'}, 'date': {'type': 'string', 'format': 'date-time'}, 'list': {'type': 'array', 'items': {'type': 'string'}}}, 'idOfCrawler': 7}\n",
      "{'type': 'object', 'properties': {'name': {'type': 'string'}, 'count': {'type': 'integer'}, 'price': {'type': 'number'}, 'customer name': {'type': 'string'}, 'phone number': {'type': 'string'}, 'list': {'type': 'array', 'items': {'type': 'string'}}}, 'idOfCrawler': 8}\n",
      "{'type': 'object', 'properties': {'name': {'type': 'string'}, 'count': {'type': 'integer'}, 'price': {'type': 'number'}, 'customer name': {'type': 'string'}, 'phone number': {'type': 'string'}, 'list': {'type': 'array', 'items': {'type': 'string'}}, 'date': {'type': 'string', 'format': 'date'}}, 'idOfCrawler': 9}\n",
      "{'type': 'object', 'properties': {'title': {'type': 'string'}, 'date': {'type': 'string'}, 'text': {'type': 'string'}, 'tags': {'type': 'array', 'items': {'type': 'string'}}, 'links': {'type': 'array'}}, 'idOfCrawler': 10}\n",
      "{'type': 'object', 'properties': {'title': {'type': 'string'}, 'date': {'type': 'string', 'format': 'date-time'}, 'text': {'type': 'string'}, 'tags': {'type': 'array', 'items': {'type': 'string'}}, 'links': {'type': 'array'}}, 'idOfCrawler': 11}\n",
      "{'type': 'object', 'properties': {'type': {'type': 'string'}, 'url': {'type': 'string'}, 'title': {'type': 'string'}, 'image': {'type': 'string'}, 'text': {'type': 'string'}, 'datetime': {'type': 'string', 'format': 'timestamp'}, 'tags': {'type': 'array', 'items': {'type': 'string'}}, 'agency': {'type': 'string'}, 'platform': {'type': 'string'}, 'datetime_modified': {'type': 'string', 'format': 'timestamp'}}, 'idOfCrawler': 12}\n"
     ]
    }
   ],
   "source": [
    "# Посмотрим, какие есть схемы\n",
    "response = requests.get('http://localhost:5000/requests/schemas')\n",
    "if response.status_code == 200:\n",
    "    schemas = response.text\n",
    "    schemas = json.loads(schemas)\n",
    "    for schema in schemas:\n",
    "        print(schema)\n",
    "else:\n",
    "    print('Error with code ', response.status_code)"
   ]
  },
  {
   "cell_type": "code",
   "execution_count": 263,
   "metadata": {
    "scrolled": true
   },
   "outputs": [
    {
     "name": "stdout",
     "output_type": "stream",
     "text": [
      "{'type': 'object', 'properties': {'name': {'type': 'string'}, 'count': {'type': 'integer'}, 'price': {'type': 'number'}, 'customer name': {'type': 'string'}, 'phone number': {'type': 'string'}, 'list': {'type': 'array', 'items': {'type': 'string'}}}, 'idOfCrawler': 8}\n"
     ]
    }
   ],
   "source": [
    "# Посмотрим конкретную схему\n",
    "response = requests.get('http://localhost:5000/requests/schemas/8')\n",
    "schema = response.text\n",
    "print(schema)"
   ]
  },
  {
   "cell_type": "code",
   "execution_count": 51,
   "metadata": {},
   "outputs": [
    {
     "name": "stdout",
     "output_type": "stream",
     "text": [
      "Schema has been deleted!\n"
     ]
    }
   ],
   "source": [
    "# Удалим какую-нибудь схему\n",
    "response = requests.get('http://localhost:5000/requests/delete/12')\n",
    "print(response.text)"
   ]
  },
  {
   "cell_type": "code",
   "execution_count": 28,
   "metadata": {},
   "outputs": [
    {
     "name": "stdout",
     "output_type": "stream",
     "text": [
      "YOUR SCHEMA IS SUCCESSFULLY WRITTEN\n"
     ]
    }
   ],
   "source": [
    "# Загрузим новую схему\n",
    "new_schema = '''{\n",
    "    \"type\" : \"object\",\n",
    "    \"properties\" : {\n",
    "        \"title\" : {\"type\" : \"string\"},\n",
    "        \"date\" : {\"type\" : \"string\", \"format\" : \"date-time\"},\n",
    "        \"text\" : {\"type\" : \"string\"},\n",
    "        \"tags\" : {\"type\" : \"array\", \"items\": { \"type\" : \"string\"}},\n",
    "        \"links\" : {\"type\" : \"array\"}\n",
    "    }\n",
    "}'''\n",
    "response = requests.post('http://localhost:5000/requests/schemas', data = new_schema)\n",
    "print(response.text)"
   ]
  },
  {
   "cell_type": "code",
   "execution_count": 264,
   "metadata": {
    "scrolled": true
   },
   "outputs": [
    {
     "name": "stdout",
     "output_type": "stream",
     "text": [
      "CAN'T GENERATE THIS TYPE OF MISTAKE WITH CHOSEN SCHEMA\n"
     ]
    }
   ],
   "source": [
    "# сгенерируем сэмплы для третей ошибки для первой схемы\n",
    "response = requests.post('http://localhost:5000/requests/8/generate', data = '6')\n",
    "try:\n",
    "    true_results = json.loads(response.content)\n",
    "    print(len(true_results['samples']))\n",
    "except:\n",
    "    true_results = response.text\n",
    "print(true_results)"
   ]
  },
  {
   "cell_type": "code",
   "execution_count": 360,
   "metadata": {
    "scrolled": true
   },
   "outputs": [
    {
     "name": "stdout",
     "output_type": "stream",
     "text": [
      "Traceback (most recent call last):\n",
      "  File \"/home/oem/Diploma/Diploma/Service/routes.py\", line 460, in verify_test\n",
      "    validate(instance=sample, schema=schema)\n",
      "  File \"/home/oem/anaconda3/lib/python3.7/site-packages/jsonschema/validators.py\", line 934, in validate\n",
      "    raise error\n",
      "jsonschema.exceptions.ValidationError: None is not of type 'string'\n",
      "\n",
      "Failed validating 'type' in schema['properties']['datetime']:\n",
      "    {'format': 'timestamp', 'type': 'string'}\n",
      "\n",
      "On instance['datetime']:\n",
      "    None\n",
      "\n"
     ]
    }
   ],
   "source": [
    "# прогоним их через сервис\n",
    "response = requests.post('http://localhost:5000/requests/12/verify', data = '12')\n",
    "predicted_results = json.loads(response.content)\n",
    "print(predicted_results['details'])"
   ]
  },
  {
   "cell_type": "code",
   "execution_count": 260,
   "metadata": {},
   "outputs": [
    {
     "name": "stdout",
     "output_type": "stream",
     "text": [
      "{'field': 'date', 'message': 'No errors in schemas', 'prediction': [0, 0, 0, 0, 0, 0, 0, 0, 0, 0, 0, 0, 0, 0, 0, 0, 0, 0, 0, 0, 0, 0, 0, 0, 0, 0, 0, 0, 0, 0, 0, 0, 0, 0, 0, 0, 0, 0, 0, 0, 0, 0, 0, 0, 0, 0, 0, 0, 0, 0, 0, 0, 0, 0, 0, 0, 0, 0, 0, 0, 0, 0, 0, 0, 0, 0, 0, 0, 0, 0, 0, 0, 0, 0, 0, 0, 0, 0, 0, 0, 0, 0, 0, 0, 0, 0, 0, 0, 0, 0, 0, 0, 0, 0, 0, 0, 0, 0, 0, 0, 0, 0, 0, 0, 0, 0, 0, 0, 0, 0, 0, 0, 0, 0, 0, 0, 0, 0, 0, 0, 0, 0, 0, 0, 0, 0, 0, 0, 0, 0, 0, 0, 0, 0, 0, 0, 0, 0, 0, 0, 0, 0, 0, 0, 0, 0, 0, 1, 1, 1, 1, 1, 1, 1, 1, 1, 1, 1, 1, 1, 1, 1, 1, 1, 1, 1, 1, 1, 1, 1, 1, 1, 1, 1, 1, 1, 1, 1, 1, 1, 1, 1, 1, 1, 1, 1, 1, 1, 1, 1, 1, 1, 1, 1, 1, 1, 1, 1, 1, 1, 1, 1, 1, 1, 1, 1, 1, 1, 1, 1, 1, 1, 1, 1, 1, 1, 1, 1, 1, 1, 1, 1, 1, 1, 1, 1, 1, 1, 1, 1, 1, 1, 1, 1, 1, 1, 1, 1, 1, 1, 1, 1, 1, 1, 1, 1, 1, 1, 1, 1, 1, 1, 1, 1, 1, 1, 1, 1, 1, 1, 1, 1, 1, 1, 1, 1, 1, 1, 1, 1, 1, 1, 1, 1, 1, 1, 1, 1, 1, 1, 1, 1, 1, 1, 1, 1, 1, 1, 1, 1, 1, 1, 1, 1, 1, 1, 1, 1, 1, 1, 1, 1, 1, 1, 1, 1, 1, 1, 1, 1, 1, 1, 1, 1, 1, 1, 1, 1, 1, 1, 1, 1, 1, 1, 1, 1, 1, 1, 1, 1]}\n"
     ]
    }
   ],
   "source": [
    "print(predicted_results)"
   ]
  },
  {
   "cell_type": "code",
   "execution_count": 196,
   "metadata": {},
   "outputs": [
    {
     "name": "stdout",
     "output_type": "stream",
     "text": [
      "[0, 0, 0, 0, 0, 0, 0, 0, 0, 0, 0, 0, 0, 0, 0, 0, 0, 0, 0, 1, 1, 1, 1, 1, 1, 1, 1, 1, 1, 1, 1, 1, 1, 1, 1, 1, 1, 1, 1, 1]\n",
      "[0, 0, 0, 0, 0, 0, 0, 0, 0, 0, 0, 0, 0, 0, 0, 0, 0, 0, 0, 1, 1, 1, 1, 1, 1, 1, 1, 1, 1, 1, 1, 1, 1, 1, 1, 1, 1, 1, 1, 1]\n"
     ]
    }
   ],
   "source": [
    "print(true_results[\"samples\"])\n",
    "print(predicted_results[\"prediction\"])"
   ]
  },
  {
   "cell_type": "code",
   "execution_count": 42,
   "metadata": {},
   "outputs": [
    {
     "name": "stdout",
     "output_type": "stream",
     "text": [
      "f1 score is  0.0\n",
      "Accuracy is  1.0\n"
     ]
    }
   ],
   "source": [
    "# посчитаем метрику\n",
    "print('f1 score is ', f1_score(true_results[\"samples\"], predicted_results[\"prediction\"]))\n",
    "print('Accuracy is ', accuracy_score(true_results[\"samples\"], predicted_results[\"prediction\"]))"
   ]
  },
  {
   "cell_type": "code",
   "execution_count": null,
   "metadata": {},
   "outputs": [],
   "source": [
    "# теперь сделаем то же самое для всех ошибок\n",
    "# тест для общей точности по всем ошибкам\n",
    "scores = []\n",
    "scores_rand = []\n",
    "for j in tnrange(30):\n",
    "    true_results = []\n",
    "    predicted_results = []\n",
    "    rand_res = []\n",
    "    for i in range(1,9):\n",
    "        if i == 6:\n",
    "            continue\n",
    "        response = requests.post('http://localhost:5000/requests/7/generate', data = str(i))\n",
    "        try:\n",
    "            true_results += json.loads(response.content)[\"samples\"]\n",
    "        except:\n",
    "            continue\n",
    "        response = requests.post('http://localhost:5000/requests/7/verify', data = str(i))\n",
    "        m = len(json.loads(response.content)[\"prediction\"])\n",
    "        predicted_results += json.loads(response.content)[\"prediction\"]\n",
    "        rand_res += random_baseline(m)\n",
    "        f1_sc = f1_score(true_results, predicted_results)\n",
    "        acc = accuracy_score(true_results, predicted_results)\n",
    "        f1_sc_rand = f1_score(true_results, rand_res)\n",
    "        acc_rand = accuracy_score(true_results, rand_res)\n",
    "        \n",
    "        sc = [f1_sc, acc]\n",
    "        sc_rand = [f1_sc_rand, acc_rand]\n",
    "    scores.append(sc)\n",
    "    scores_rand.append(sc_rand)"
   ]
  },
  {
   "cell_type": "code",
   "execution_count": null,
   "metadata": {
    "scrolled": true
   },
   "outputs": [],
   "source": [
    "average_f1_score = sum(np.array(scores).T[0])/len(scores)\n",
    "print('CPD: f1 score is ',average_f1_score)\n",
    "average_f1_score = sum(np.array(scores_rand).T[0])/len(scores_rand)\n",
    "print('Random: f1 score is ',average_f1_score)"
   ]
  },
  {
   "cell_type": "code",
   "execution_count": null,
   "metadata": {},
   "outputs": [],
   "source": [
    "average_acc = sum(np.array(scores).T[1])/len(scores)\n",
    "print('CPD: Accuracy is ', average_acc)\n",
    "average_acc = sum(np.array(scores_rand).T[1])/len(scores_rand)\n",
    "print('Random: Accuracy is ', average_acc)"
   ]
  },
  {
   "cell_type": "code",
   "execution_count": 359,
   "metadata": {
    "scrolled": false
   },
   "outputs": [
    {
     "data": {
      "application/vnd.jupyter.widget-view+json": {
       "model_id": "f1f76268867c421e8c768a7a51d9b397",
       "version_major": 2,
       "version_minor": 0
      },
      "text/plain": [
       "HBox(children=(IntProgress(value=0, max=50), HTML(value='')))"
      ]
     },
     "metadata": {},
     "output_type": "display_data"
    },
    {
     "name": "stdout",
     "output_type": "stream",
     "text": [
      "CPD: Accuracy for error 4 is  1.0\n",
      "CPD: f1 score for error 4 is  1.0\n",
      "Random: Accuracy for error 4 is  0.7626666666666665\n",
      "Random: f1 score for error 4 is  0.735059025403486\n"
     ]
    }
   ],
   "source": [
    "#тест для точности по каждой ошибке отдельно\n",
    "for k in range(4,5):\n",
    "    #if k == 6 or k ==3:\n",
    "    #    continue\n",
    "    scores = []\n",
    "    scores_rand = []\n",
    "    for j in tnrange(50):\n",
    "        ! rm data/collection7.json\n",
    "        true_results = []\n",
    "        predicted_results = []\n",
    "        response = requests.post('http://localhost:5000/requests/7/generate', data = str(k))\n",
    "        try:\n",
    "            true_results += json.loads(response.content)[\"samples\"]\n",
    "        except:\n",
    "            continue\n",
    "        try:\n",
    "            response = requests.post('http://localhost:5000/requests/7/verify', data = str(k))\n",
    "            predicted_results = json.loads(response.content)[\"prediction\"]\n",
    "            m = len(predicted_results)\n",
    "            rand_samp = random_baseline(m)\n",
    "            \n",
    "            f1_sc = f1_score(true_results, predicted_results)\n",
    "            acc = accuracy_score(true_results, predicted_results)\n",
    "            f1_sc_rand = f1_score(true_results, rand_samp)\n",
    "            acc_rand = accuracy_score(true_results, rand_samp)\n",
    "            sc = [f1_sc, acc]\n",
    "            sc_rand = [f1_sc_rand, acc_rand]\n",
    "            \n",
    "            scores.append(sc)\n",
    "            scores_rand.append(sc_rand)\n",
    "        except:\n",
    "            raise\n",
    "            print(\"error in len\")   \n",
    "            continue\n",
    "    \n",
    "    average_acc = sum(np.array(scores).T[1])/len(scores)\n",
    "    print('CPD: Accuracy for error ' + str(k) + ' is ', average_acc)\n",
    "    average_f1_score = sum(np.array(scores).T[0])/len(scores)\n",
    "    print('CPD: f1 score for error ' + str(k) + ' is ',average_f1_score)\n",
    "    \n",
    "    average_acc = sum(np.array(scores_rand).T[1])/len(scores_rand)\n",
    "    print('Random: Accuracy for error ' + str(k) + ' is ', average_acc)\n",
    "    average_f1_score = sum(np.array(scores_rand).T[0])/len(scores_rand)\n",
    "    print('Random: f1 score for error ' + str(k) + ' is ',average_f1_score)\n",
    "    "
   ]
  },
  {
   "cell_type": "code",
   "execution_count": 328,
   "metadata": {},
   "outputs": [
    {
     "data": {
      "application/vnd.jupyter.widget-view+json": {
       "model_id": "aba16a03a15e4155be91317920331649",
       "version_major": 2,
       "version_minor": 0
      },
      "text/plain": [
       "HBox(children=(IntProgress(value=0, max=50), HTML(value='')))"
      ]
     },
     "metadata": {},
     "output_type": "display_data"
    },
    {
     "name": "stdout",
     "output_type": "stream",
     "text": [
      "error in len\n",
      "Accuracy for error 6 is  0.5428571428571429\n",
      "f1 score for error 6 is  0.07142857142857142\n"
     ]
    }
   ],
   "source": [
    "#тест для дат (date)\n",
    "for k in range(6,7):\n",
    "    scores = []\n",
    "    for j in tnrange(50):\n",
    "        true_results = []\n",
    "        predicted_results = []\n",
    "        try:\n",
    "            response = requests.post('http://localhost:5000/requests/7/generate', data = str(k))\n",
    "            true_results += json.loads(response.content)[\"samples\"]\n",
    "        except:\n",
    "            continue\n",
    "        try:\n",
    "            response = requests.post('http://localhost:5000/requests/7/verify', data = str(k))\n",
    "            predicted_results += json.loads(response.content)[\"prediction\"]\n",
    "            f1_sc = f1_score(true_results, predicted_results)\n",
    "            acc = accuracy_score(true_results, predicted_results)\n",
    "            sc = [f1_sc, acc]\n",
    "            scores.append(sc)\n",
    "        except:\n",
    "            print(\"error in len\")   \n",
    "            continue\n",
    "    \n",
    "    average_acc = sum(np.array(scores).T[1])/len(scores)\n",
    "    print('Accuracy for error ' + str(k) + ' is ', average_acc)\n",
    "    average_f1_score = sum(np.array(scores).T[0])/len(scores)\n",
    "    print('f1 score for error ' + str(k) + ' is ',average_f1_score)"
   ]
  },
  {
   "cell_type": "code",
   "execution_count": 353,
   "metadata": {},
   "outputs": [],
   "source": [
    "! rm data/collection7.json"
   ]
  },
  {
   "cell_type": "code",
   "execution_count": 249,
   "metadata": {},
   "outputs": [
    {
     "name": "stdout",
     "output_type": "stream",
     "text": [
      "YOUR SCHEMA IS SUCCESSFULLY WRITTEN\n"
     ]
    }
   ],
   "source": [
    "new_schema = '''{\n",
    "    \"type\" : \"object\",\n",
    "    \"properties\" : {\n",
    "        \"type\" : {\"type\" : \"string\"},\n",
    "        \"url\" : {\"type\" : \"string\"},\n",
    "        \"title\" : {\"type\" : \"string\"},\n",
    "        \"story_url\" : {\"type\" : \"string\"},\n",
    "        \"text\" : {\"type\" : \"string\"},\n",
    "        \"datetime\" : {\"type\" : \"string\", \"format\" : \"timestamp\"},\n",
    "        \"agency\" : {\"type\" : \"string\"},\n",
    "        \"platform\" : {\"type\" : \"string\"},\n",
    "        \"category\" : {\"type\" : \"string\"}\n",
    "    }\n",
    "}'''\n",
    "response = requests.post('http://localhost:5000/requests/schemas', data = new_schema)\n",
    "print(response.text)"
   ]
  },
  {
   "cell_type": "code",
   "execution_count": 246,
   "metadata": {},
   "outputs": [],
   "source": [
    "class VerificationPipeline():\n",
    "    def __init__(self, id_of_crawler, error_num, key):\n",
    "        self.is_empty = 1\n",
    "        self.key = key\n",
    "        self.items_count = 0\n",
    "        self.items_test_count = 0\n",
    "        self.items = []\n",
    "        file_test = open('/home/oem/Diploma/Diploma/data/anomaly' + str(error_num)\n",
    "                         + '_id_' + str(id_of_crawler) + '.json', 'w')\n",
    "        file_test.close()\n",
    "        file_collection = open('/home/oem/Diploma/Diploma/data/collection'+str(id_of_crawler)+'.json', 'w')\n",
    "        file_collection.close()\n",
    "\n",
    "    def process_item(self, item, id_of_crawler, error_num):\n",
    "        self.items.append(item)\n",
    "        if len(self.items) == 40 and self.is_empty:\n",
    "            with open('/home/oem/Diploma/Diploma/data/collection'+str(id_of_crawler)+'.json', 'w') as f:\n",
    "                json.dump(self.items, f)\n",
    "            self.items = []\n",
    "            self.is_empty = 0\n",
    "\n",
    "        if len(self.items) == 30 and not self.is_empty:\n",
    "            with open('/home/oem/Diploma/Diploma/data/anomaly' + str(error_num)\n",
    "                      + '_id_' + str(id_of_crawler) + '.json', 'w') as f:\n",
    "                json.dump(self.items, f)\n",
    "            response = requests.post('http://localhost:5000/requests/'+str(id_of_crawler)+'/verify', data=str(error_num))\n",
    "            predicted_results = json.loads(response.content)\n",
    "            try:\n",
    "                prediction = predicted_results[\"prediction\"]\n",
    "            except:\n",
    "                print(response.content)\n",
    "            if sum(prediction) > 0:\n",
    "                error_index = prediction.index(1)\n",
    "                with open('/home/oem/Diploma/Diploma/data/collection'+str(id_of_crawler)+'.json', 'r') as f:\n",
    "                    data = json.loads(f.read())\n",
    "                error_index += len(data)\n",
    "                data = data + self.items\n",
    "                print(data[error_index - 3][self.key])\n",
    "                print(data[error_index - 2][self.key])\n",
    "                print(data[error_index - 1][self.key])\n",
    "                print(data[error_index][self.key])\n",
    "                print(data[error_index + 1][self.key])\n",
    "                print(data[error_index + 2][self.key])\n",
    "                print(data[error_index + 3][self.key])\n",
    "                print('--------------------------------------------------------')\n",
    "            with open('/home/oem/Diploma/Diploma/data/collection'+str(id_of_crawler)+'.json', 'r') as f:\n",
    "                data = json.loads(f.read())\n",
    "            if len(data) > 40:\n",
    "                with open('/home/oem/Diploma/Diploma/data/collection'+str(id_of_crawler)+'.json', 'w') as f:\n",
    "                    json.dump(data[-45:-5], f)\n",
    "            self.items = []\n",
    "        return item"
   ]
  },
  {
   "cell_type": "code",
   "execution_count": 219,
   "metadata": {},
   "outputs": [],
   "source": [
    "vp = VerificationPipeline(12,12, 'datetime')"
   ]
  },
  {
   "cell_type": "code",
   "execution_count": 234,
   "metadata": {},
   "outputs": [],
   "source": [
    "with open('data_ria.json', 'r') as f40:\n",
    "    ria = json.loads(f.read())"
   ]
  },
  {
   "cell_type": "code",
   "execution_count": 235,
   "metadata": {},
   "outputs": [
    {
     "data": {
      "text/plain": [
       "10000"
      ]
     },
     "execution_count": 235,
     "metadata": {},
     "output_type": "execute_result"
    }
   ],
   "source": [
    "len(ria)"
   ]
  },
  {
   "cell_type": "code",
   "execution_count": 248,
   "metadata": {
    "scrolled": false
   },
   "outputs": [
    {
     "data": {
      "application/vnd.jupyter.widget-view+json": {
       "model_id": "95770d3255c84b8ca90565071b01273a",
       "version_major": 2,
       "version_minor": 0
      },
      "text/plain": [
       "HBox(children=(IntProgress(value=0, max=10000), HTML(value='')))"
      ]
     },
     "metadata": {},
     "output_type": "display_data"
    },
    {
     "name": "stdout",
     "output_type": "stream",
     "text": [
      "1584421980\n",
      "1584421740\n",
      "1584421500\n",
      "1584421200\n",
      "1584421200\n",
      "1584421200\n",
      "1584421200\n",
      "--------------------------------------------------------\n",
      "1583346360\n",
      "1583346060\n",
      "1583346060\n",
      "1583346000\n",
      "1583345520\n",
      "1583345520\n",
      "1583345520\n",
      "--------------------------------------------------------\n",
      "1583298660\n",
      "1583298360\n",
      "1583298360\n",
      "1583298000\n",
      "1583298000\n",
      "1583298000\n",
      "1583298000\n",
      "--------------------------------------------------------\n"
     ]
    }
   ],
   "source": [
    "vp = VerificationPipeline(12,12, 'datetime')\n",
    "for i in tnrange(len(ria)):\n",
    "    vp.process_item(ria[i], 12, 12)"
   ]
  },
  {
   "cell_type": "code",
   "execution_count": null,
   "metadata": {},
   "outputs": [],
   "source": [
    "print(ria)"
   ]
  },
  {
   "cell_type": "code",
   "execution_count": 237,
   "metadata": {},
   "outputs": [
    {
     "data": {
      "text/plain": [
       "430"
      ]
     },
     "execution_count": 237,
     "metadata": {},
     "output_type": "execute_result"
    }
   ],
   "source": [
    "with open('myDataSL.json', 'r') as f:\n",
    "    SL = json.loads(f.read())\n",
    "len(SL)"
   ]
  },
  {
   "cell_type": "code",
   "execution_count": 247,
   "metadata": {
    "scrolled": false
   },
   "outputs": [
    {
     "name": "stdout",
     "output_type": "stream",
     "text": [
      "2020-05-05T10:29:08\n",
      "2020-05-05T15:14:45\n",
      "2020-05-05T08:49:03\n",
      "2019-01-30 15:20:00\n",
      "2019-01-30 16:05:00\n",
      "2019-01-31 08:50:00\n",
      "2019-01-31 09:50:00\n",
      "--------------------------------------------------------\n",
      "2020-05-05T10:29:08\n",
      "2020-05-05T15:14:45\n",
      "2020-05-05T08:49:03\n",
      "2019-01-25 15:38:00\n",
      "2019-01-26 12:37:00\n",
      "2019-01-28 14:44:00\n",
      "2019-01-28 11:07:00\n",
      "--------------------------------------------------------\n",
      "2020-05-05T10:29:08\n",
      "2020-05-05T15:14:45\n",
      "2020-05-05T08:49:03\n",
      "2019-01-23 12:27:00\n",
      "2019-01-23 12:19:00\n",
      "2019-01-23 09:32:00\n",
      "2019-01-23 14:22:00\n",
      "--------------------------------------------------------\n",
      "2020-05-05T10:29:08\n",
      "2020-05-05T15:14:45\n",
      "2020-05-05T08:49:03\n",
      "2019-01-21 07:48:00\n",
      "2019-01-21 08:56:00\n",
      "2019-01-21 09:35:00\n",
      "2019-01-21 10:24:00\n",
      "--------------------------------------------------------\n",
      "2020-05-05T10:29:08\n",
      "2020-05-05T15:14:45\n",
      "2020-05-05T08:49:03\n",
      "2019-01-15 11:51:00\n",
      "2019-01-15 13:36:00\n",
      "2019-01-15 10:05:00\n",
      "2019-01-15 15:40:00\n",
      "--------------------------------------------------------\n",
      "2020-05-05T10:29:08\n",
      "2020-05-05T15:14:45\n",
      "2020-05-05T08:49:03\n",
      "2019-01-11 09:38:00\n",
      "2019-01-11 07:37:00\n",
      "2019-01-10 11:43:00\n",
      "2019-01-11 08:29:00\n",
      "--------------------------------------------------------\n"
     ]
    }
   ],
   "source": [
    "vp = VerificationPipeline(11,11, 'date')\n",
    "for sample in SL:\n",
    "    vp.process_item(sample, 11, 11)"
   ]
  },
  {
   "cell_type": "code",
   "execution_count": 252,
   "metadata": {},
   "outputs": [],
   "source": [
    "with open('data_yn.json', 'r') as f:\n",
    "    yn = json.loads(f.read())"
   ]
  },
  {
   "cell_type": "code",
   "execution_count": 253,
   "metadata": {},
   "outputs": [
    {
     "data": {
      "text/plain": [
       "10000"
      ]
     },
     "execution_count": 253,
     "metadata": {},
     "output_type": "execute_result"
    }
   ],
   "source": [
    "len(yn)"
   ]
  },
  {
   "cell_type": "code",
   "execution_count": 258,
   "metadata": {
    "scrolled": false
   },
   "outputs": [
    {
     "data": {
      "application/vnd.jupyter.widget-view+json": {
       "model_id": "b7cb62d28bf44574a2ea6e43b3c440a0",
       "version_major": 2,
       "version_minor": 0
      },
      "text/plain": [
       "HBox(children=(IntProgress(value=0, max=10000), HTML(value='')))"
      ]
     },
     "metadata": {},
     "output_type": "display_data"
    },
    {
     "name": "stdout",
     "output_type": "stream",
     "text": [
      "https://yandex.ru/news/story/Smolnyj_oficialno_podtverdil_perenos_transportnoj_reformy_Peterburga--bcdfe299f1f1405a545f4ae16f46bf73?lang=ru&from=rss&stid=N07EAMx8g19NcR2LUFBj\n",
      "https://yandex.ru/news/story/Tatneft_ostanovit_40_skvazhin_ot_ehkspluatacionnogo_fonda--c5d8786501b06e7ecaaa783bdecceff2?lang=ru&from=rss&stid=GEu5FA7h8jAX4JTxYCh5\n",
      "https://yandex.ru/news/story/Putin_obyavil_o_provedenii_vozdushnogo_parada_9_maya--7ef8dc92dce58825d7e802235ce04f95?lang=ru&from=rss&stid=ZT9b7XTeTXAHF5wezEvb\n",
      "https://yandex.ru/news/story/Tret_rossiyan_schitayut_chrezmernymi_ogranicheniya_v_svyazi_koronavirusom--4c83c95efd335a8de1b6cc78ff30a0e7?lang=ru&from=rss&stid=qTwgqVhGZTQyFpWBq2jF\n",
      "https://yandex.ru/news/story/Tret_rossiyan_schitayut_chrezmernymi_ogranicheniya_v_svyazi_koronavirusom--4c83c95efd335a8de1b6cc78ff30a0e7?lang=ru&from=rss&stid=qTwgqVhGZTQyFpWBq2jF\n",
      "https://yandex.ru/news/story/Tret_rossiyan_schitayut_chrezmernymi_ogranicheniya_v_svyazi_koronavirusom--4c83c95efd335a8de1b6cc78ff30a0e7?lang=ru&from=rss&stid=qTwgqVhGZTQyFpWBq2jF\n",
      "https://yandex.ru/news/story/Tret_rossiyan_schitayut_chrezmernymi_ogranicheniya_v_svyazi_koronavirusom--4c83c95efd335a8de1b6cc78ff30a0e7?lang=ru&from=rss&stid=qTwgqVhGZTQyFpWBq2jF\n",
      "--------------------------------------------------------\n",
      "https://yandex.ru/news/story/Prodazhi_legkovykh_avtomobilej_v_Rossii_mogut_upast_na_30--c4df09d4aeba31033929a6d6cdefd321?lang=ru&from=rss&stid=QeOdmUN_2X36-U90_May\n",
      "https://yandex.ru/news/story/CHinovnikov_v_Ust-Kutskom_rajone_podozrevayut_v_podzhoge_lesa--2255886a0673f7af7a4a972be19c5861?lang=ru&from=rss&stid=PsR2_uYO-siXSueQu8Mz\n",
      "https://yandex.ru/news/story/Putin_prodlil_rezhim_nerabochikh_dnej--a09e82cc9f719462c38bb66048b75e07?lang=ru&from=rss&stid=n2qX4c9PZ2PlzxWevWbZ\n",
      "https://yandex.ru/news/story/V_Gosdumu_vnesli_proekt_o_shtrafakh_za_ezdu_bez_specpropuska--ad080b511e75f8fb4bcf71f8f95bc1ce?lang=ru&from=rss&stid=mf4mhFo83R1kwr7ynsT2\n",
      "https://yandex.ru/news/story/Putin_napomnil_o_primere_Sparty_iz-za_situacii_s_koronavirusom--9e631b40c7a328be7713620bd8d55bfa?lang=ru&from=rss&stid=KWo1xlbJf8QSNZ8sqeMi\n",
      "https://yandex.ru/news/story/K_premii_Oskar_dopustyat_vykhodivshie_onlajn_filmy--d834419c55e332846c941922e38329f1?lang=ru&from=rss&stid=28Dnv35T4-MEU7IajEjg\n",
      "https://yandex.ru/news/story/K_premii_Oskar_dopustyat_vykhodivshie_onlajn_filmy--d834419c55e332846c941922e38329f1?lang=ru&from=rss&stid=28Dnv35T4-MEU7IajEjg\n",
      "--------------------------------------------------------\n",
      "https://yandex.ru/news/story/Panarin_schitaet_chto_mnogie_lyudi_poteryayut_rabotu_iz-za_koronavirusa--dbe7f3688a8a580b0f3762efa1233ca2?lang=ru&from=rss&stid=DA3PIXODNnRY2BB2cKyo\n",
      "https://yandex.ru/news/story/V_Tulskoj_oblasti_vvedut_cifrovye_propuska_dlya_vezda_v_region--4ebd9f6920ed573e0de1478e9c42f1a9?lang=ru&from=rss&stid=vSJ36cJZw9V5mCQ4ZeuM\n",
      "https://yandex.ru/news/story/Vladimir_Putin_vystupil_s_obrashheniem_k_rossiyanam_iz-za_koronavirusa--cbe58178b4889654f8db366ae03bda6f?lang=ru&from=rss&stid=LHfOUsqyK_a2Ke7rbtBs\n",
      "https://yandex.ru/news/story/Putin_predlozhil_razrabotat_novyj_plan_podderzhki_naseleniya--568a5a885fade2750bd11ab68c6e5a1b?lang=ru&from=rss&stid=WYgDSUCVjaDnWa98Gqc0\n",
      "https://yandex.ru/news/story/Putin_obyavil_pervuyu_dekadu_maya_vserossijskimi_vykhodnymi--907f8a83207ae8a794acdf1f6e2311aa?lang=ru&from=rss&stid=b0xbyKgHp-U7QnRWRUep\n",
      "https://yandex.ru/news/story/Putin_obyavil_pervuyu_dekadu_maya_vserossijskimi_vykhodnymi--907f8a83207ae8a794acdf1f6e2311aa?lang=ru&from=rss&stid=b0xbyKgHp-U7QnRWRUep\n",
      "https://yandex.ru/news/story/Putin_predlozhil_razrabotat_novyj_plan_podderzhki_naseleniya--568a5a885fade2750bd11ab68c6e5a1b?lang=ru&from=rss&stid=WYgDSUCVjaDnWa98Gqc0\n",
      "--------------------------------------------------------\n",
      "https://yandex.ru/news/story/Putin_obyavil_o_prodlenii_nerabochikh_dnej_do_konca_majskikh_prazdnikov--380b1ec2b4d996cc749e54b2e2dfb2fe?lang=ru&from=rss&stid=aCXy4c9PR9VIvWbZQEPE\n",
      "https://yandex.ru/news/story/Putin_obyavil_o_prodlenii_nerabochikh_dnej_do_konca_majskikh_prazdnikov--380b1ec2b4d996cc749e54b2e2dfb2fe?lang=ru&from=rss&stid=aCXy4c9PR9VIvWbZQEPE\n",
      "https://yandex.ru/news/story/Putin_obyavil_o_prodlenii_nerabochikh_dnej_do_konca_majskikh_prazdnikov--380b1ec2b4d996cc749e54b2e2dfb2fe?lang=ru&from=rss&stid=aCXy4c9PR9VIvWbZQEPE\n",
      "https://yandex.ru/news/story/Putin_obyavil_pervuyu_dekadu_maya_vserossijskimi_vykhodnymi--907f8a83207ae8a794acdf1f6e2311aa?lang=ru&from=rss&stid=b0xbyKgHp-U7QnRWRUep\n",
      "https://yandex.ru/news/story/Putin_obyavil_pervuyu_dekadu_maya_vserossijskimi_vykhodnymi--907f8a83207ae8a794acdf1f6e2311aa?lang=ru&from=rss&stid=b0xbyKgHp-U7QnRWRUep\n",
      "https://yandex.ru/news/story/Putin_obyavil_pervuyu_dekadu_maya_vserossijskimi_vykhodnymi--907f8a83207ae8a794acdf1f6e2311aa?lang=ru&from=rss&stid=b0xbyKgHp-U7QnRWRUep\n",
      "https://yandex.ru/news/story/Putin_otmetil_mobilizaciyu_promyshlennosti_v_period_pandemii--7ca160b3a5d74d9a3974579c69873c9a?lang=ru&from=rss&stid=g2xOZ6mHdxcDYnI2IQZp\n",
      "--------------------------------------------------------\n",
      "https://yandex.ru/news/story/Putin_obyavil_o_prodlenii_nerabochikh_dnej_do_konca_majskikh_prazdnikov--380b1ec2b4d996cc749e54b2e2dfb2fe?lang=ru&from=rss&stid=aCXy4c9PR9VIvWbZQEPE\n",
      "https://yandex.ru/news/story/Putin_obyavil_o_prodlenii_nerabochikh_dnej_do_konca_majskikh_prazdnikov--380b1ec2b4d996cc749e54b2e2dfb2fe?lang=ru&from=rss&stid=aCXy4c9PR9VIvWbZQEPE\n",
      "https://yandex.ru/news/story/Putin_obyavil_o_prodlenii_nerabochikh_dnej_do_konca_majskikh_prazdnikov--380b1ec2b4d996cc749e54b2e2dfb2fe?lang=ru&from=rss&stid=aCXy4c9PR9VIvWbZQEPE\n",
      "https://yandex.ru/news/story/Putin_obyavil_pervuyu_dekadu_maya_vserossijskimi_vykhodnymi--907f8a83207ae8a794acdf1f6e2311aa?lang=ru&from=rss&stid=b0xbyKgHp-U7QnRWRUep\n",
      "https://yandex.ru/news/story/Putin_obyavil_pervuyu_dekadu_maya_vserossijskimi_vykhodnymi--907f8a83207ae8a794acdf1f6e2311aa?lang=ru&from=rss&stid=b0xbyKgHp-U7QnRWRUep\n",
      "https://yandex.ru/news/story/Putin_obyavil_pervuyu_dekadu_maya_vserossijskimi_vykhodnymi--907f8a83207ae8a794acdf1f6e2311aa?lang=ru&from=rss&stid=b0xbyKgHp-U7QnRWRUep\n",
      "https://yandex.ru/news/story/Putin_obyavil_pervuyu_dekadu_maya_vserossijskimi_vykhodnymi--907f8a83207ae8a794acdf1f6e2311aa?lang=ru&from=rss&stid=b0xbyKgHp-U7QnRWRUep\n",
      "--------------------------------------------------------\n",
      "https://yandex.ru/news/story/Putin_obyavil_pervuyu_dekadu_maya_vserossijskimi_vykhodnymi--907f8a83207ae8a794acdf1f6e2311aa?lang=ru&from=rss&stid=b0xbyKgHp-U7QnRWRUep\n",
      "https://yandex.ru/news/story/Putin_obyavil_pervuyu_dekadu_maya_vserossijskimi_vykhodnymi--907f8a83207ae8a794acdf1f6e2311aa?lang=ru&from=rss&stid=b0xbyKgHp-U7QnRWRUep\n",
      "https://yandex.ru/news/story/Putin_obyavil_pervuyu_dekadu_maya_vserossijskimi_vykhodnymi--907f8a83207ae8a794acdf1f6e2311aa?lang=ru&from=rss&stid=b0xbyKgHp-U7QnRWRUep\n",
      "https://yandex.ru/news/story/Merkel_zayavila_chto_sankcii_protiv_Rossii_vo_vremya_pandemii_nepriyatny--b72c03f2ffa73a7b9825617e2b04f7f6?lang=ru&from=rss&stid=D7JbFJQCPg_-wyizODa2\n",
      "https://yandex.ru/news/story/Merkel_zayavila_chto_sankcii_protiv_Rossii_vo_vremya_pandemii_nepriyatny--b72c03f2ffa73a7b9825617e2b04f7f6?lang=ru&from=rss&stid=D7JbFJQCPg_-wyizODa2\n",
      "https://yandex.ru/news/story/Rossijskij_spasatel_vyskazal_neozhidannyj_plyus_samoizolyacii--65749ba2d6d85ae0fa79351f69ad71fe?lang=ru&from=rss&stid=gauJ\n",
      "https://yandex.ru/news/story/Seriya_romanov_Terri_Pratchetta_Ploskij_mir_budet_ehkranizirovana--d1aa7ca9cd5e64e9672515d3ded995a0?lang=ru&from=rss&stid=JWXc5eZG9Q1Qi3pnzdq_\n",
      "--------------------------------------------------------\n",
      "https://yandex.ru/news/story/Putin_obyavil_pervuyu_dekadu_maya_vserossijskimi_vykhodnymi--907f8a83207ae8a794acdf1f6e2311aa?lang=ru&from=rss&stid=b0xbyKgHp-U7QnRWRUep\n",
      "https://yandex.ru/news/story/Putin_obyavil_pervuyu_dekadu_maya_vserossijskimi_vykhodnymi--907f8a83207ae8a794acdf1f6e2311aa?lang=ru&from=rss&stid=b0xbyKgHp-U7QnRWRUep\n",
      "https://yandex.ru/news/story/Putin_obyavil_pervuyu_dekadu_maya_vserossijskimi_vykhodnymi--907f8a83207ae8a794acdf1f6e2311aa?lang=ru&from=rss&stid=b0xbyKgHp-U7QnRWRUep\n",
      "https://yandex.ru/news/story/Putin_prodlil_rezhim_nerabochikh_dnej_do_11_maya--47898a4e52775b03da04599775deb458?lang=ru&from=rss&stid=aCXyheTHeqqlYP_Py_oy\n",
      "https://yandex.ru/news/story/Putin_prodlil_rezhim_nerabochikh_dnej_do_11_maya--47898a4e52775b03da04599775deb458?lang=ru&from=rss&stid=aCXyheTHeqqlYP_Py_oy\n",
      "https://yandex.ru/news/story/Putin_prodlil_rezhim_nerabochikh_dnej_do_11_maya--47898a4e52775b03da04599775deb458?lang=ru&from=rss&stid=aCXyheTHeqqlYP_Py_oy\n",
      "https://yandex.ru/news/story/Putin_prodlil_rezhim_nerabochikh_dnej_do_11_maya--47898a4e52775b03da04599775deb458?lang=ru&from=rss&stid=aCXyheTHeqqlYP_Py_oy\n",
      "--------------------------------------------------------\n"
     ]
    },
    {
     "name": "stdout",
     "output_type": "stream",
     "text": [
      "https://yandex.ru/news/story/Putin_obyavil_o_prodlenii_nerabochikh_dnej_do_konca_majskikh_prazdnikov--380b1ec2b4d996cc749e54b2e2dfb2fe?lang=ru&from=rss&stid=aCXy4c9PR9VIvWbZQEPE\n",
      "https://yandex.ru/news/story/Putin_obyavil_o_prodlenii_nerabochikh_dnej_do_konca_majskikh_prazdnikov--380b1ec2b4d996cc749e54b2e2dfb2fe?lang=ru&from=rss&stid=aCXy4c9PR9VIvWbZQEPE\n",
      "https://yandex.ru/news/story/Putin_obyavil_o_prodlenii_nerabochikh_dnej_do_konca_majskikh_prazdnikov--380b1ec2b4d996cc749e54b2e2dfb2fe?lang=ru&from=rss&stid=aCXy4c9PR9VIvWbZQEPE\n",
      "https://yandex.ru/news/story/Putin_prodlil_rezhim_nerabochikh_dnej--a09e82cc9f719462c38bb66048b75e07?lang=ru&from=rss&stid=n2qX4c9PZ2PlzxWevWbZ\n",
      "https://yandex.ru/news/story/Putin_prodlil_rezhim_nerabochikh_dnej--a09e82cc9f719462c38bb66048b75e07?lang=ru&from=rss&stid=n2qX4c9PZ2PlzxWevWbZ\n",
      "https://yandex.ru/news/story/Putin_prodlil_rezhim_nerabochikh_dnej--a09e82cc9f719462c38bb66048b75e07?lang=ru&from=rss&stid=n2qX4c9PZ2PlzxWevWbZ\n",
      "https://yandex.ru/news/story/Putin_prodlil_rezhim_nerabochikh_dnej--a09e82cc9f719462c38bb66048b75e07?lang=ru&from=rss&stid=n2qX4c9PZ2PlzxWevWbZ\n",
      "--------------------------------------------------------\n",
      "https://yandex.ru/news/story/Putin_obyavil_pervuyu_dekadu_maya_vserossijskimi_vykhodnymi--907f8a83207ae8a794acdf1f6e2311aa?lang=ru&from=rss&stid=b0xbyKgHp-U7QnRWRUep\n",
      "https://yandex.ru/news/story/Putin_obyavil_pervuyu_dekadu_maya_vserossijskimi_vykhodnymi--907f8a83207ae8a794acdf1f6e2311aa?lang=ru&from=rss&stid=b0xbyKgHp-U7QnRWRUep\n",
      "https://yandex.ru/news/story/Merkel_zayavila_chto_sankcii_protiv_Rossii_vo_vremya_pandemii_nepriyatny--b72c03f2ffa73a7b9825617e2b04f7f6?lang=ru&from=rss&stid=D7JbFJQCPg_-wyizODa2\n",
      "https://yandex.ru/news/story/Putin_podvyol_itogi_borby_s_pandemiej--84690adbb4b5333d46b0359a7fe7289b?lang=ru&from=rss&stid=Nnr5jLgYHo1oabFeiABC\n",
      "https://yandex.ru/news/story/Putin_prodlil_rezhim_nerabochikh_dnej_do_11_maya--47898a4e52775b03da04599775deb458?lang=ru&from=rss&stid=aCXyheTHeqqlYP_Py_oy\n",
      "https://yandex.ru/news/story/Putin_prodlil_rezhim_nerabochikh_dnej_do_11_maya--47898a4e52775b03da04599775deb458?lang=ru&from=rss&stid=aCXyheTHeqqlYP_Py_oy\n",
      "https://yandex.ru/news/story/Putin_prodlil_rezhim_nerabochikh_dnej_do_11_maya--47898a4e52775b03da04599775deb458?lang=ru&from=rss&stid=aCXyheTHeqqlYP_Py_oy\n",
      "--------------------------------------------------------\n",
      "https://yandex.ru/news/story/Putin_obyavil_o_prodlenii_nerabochikh_dnej_do_konca_majskikh_prazdnikov--380b1ec2b4d996cc749e54b2e2dfb2fe?lang=ru&from=rss&stid=aCXy4c9PR9VIvWbZQEPE\n",
      "https://yandex.ru/news/story/Nad_Belgorodom_v_Den_Pobedy_proletit_voennaya_aviaciya--c47f9d39624c52b07c1700c3f404684f?lang=ru&from=rss&stid=F5weF_p7IZFQimoCX0A-\n",
      "https://yandex.ru/news/story/Korolevskie_tankisty_VSU_poluchili_modernizirovannye_T-72--5a6f3cd96cce266b82b851d1901b54c7?lang=ru&from=rss&stid=s_dwSugGn_zc7Aa5\n",
      "https://yandex.ru/news/story/Putin_prodlil_rezhim_nerabochikh_dnej--a09e82cc9f719462c38bb66048b75e07?lang=ru&from=rss&stid=n2qX4c9PZ2PlzxWevWbZ\n",
      "https://yandex.ru/news/story/Putin_prodlil_rezhim_nerabochikh_dnej--a09e82cc9f719462c38bb66048b75e07?lang=ru&from=rss&stid=n2qX4c9PZ2PlzxWevWbZ\n",
      "https://yandex.ru/news/story/Putin_prodlil_rezhim_nerabochikh_dnej--a09e82cc9f719462c38bb66048b75e07?lang=ru&from=rss&stid=n2qX4c9PZ2PlzxWevWbZ\n",
      "https://yandex.ru/news/story/Putin_prodlil_rezhim_nerabochikh_dnej--a09e82cc9f719462c38bb66048b75e07?lang=ru&from=rss&stid=n2qX4c9PZ2PlzxWevWbZ\n",
      "--------------------------------------------------------\n"
     ]
    }
   ],
   "source": [
    "vp = VerificationPipeline(13,13, 'story_url')\n",
    "for i in tnrange(len(yn)):\n",
    "    vp.process_item(yn[i], 13, 13)"
   ]
  },
  {
   "cell_type": "code",
   "execution_count": null,
   "metadata": {},
   "outputs": [],
   "source": []
  }
 ],
 "metadata": {
  "kernelspec": {
   "display_name": "Python 3",
   "language": "python",
   "name": "python3"
  },
  "language_info": {
   "codemirror_mode": {
    "name": "ipython",
    "version": 3
   },
   "file_extension": ".py",
   "mimetype": "text/x-python",
   "name": "python",
   "nbconvert_exporter": "python",
   "pygments_lexer": "ipython3",
   "version": "3.7.3"
  }
 },
 "nbformat": 4,
 "nbformat_minor": 2
}
